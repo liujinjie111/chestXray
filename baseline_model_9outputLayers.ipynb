{
  "cells": [
    {
      "cell_type": "markdown",
      "source": [
        "# References"
      ],
      "metadata": {
        "id": "JIM0q5KDxhvF"
      },
      "id": "JIM0q5KDxhvF"
    },
    {
      "cell_type": "markdown",
      "source": [
        "Medical neural networks:\n",
        "https://glassboxmedicine.com/\n",
        "\n",
        "Comparison of ResNet50 and VGG19 and training from stratch for X-ray images dataset:\n",
        "https://www.sciencedirect.com/science/article/pii/S2666285X21000558\n",
        "\n",
        "Tensorboard confusion matrix:\n",
        "https://towardsdatascience.com/exploring-confusion-matrix-evolution-on-tensorboard-e66b39f4ac12\n",
        "\n",
        "Pre-processing and modeling pipelines (ResNet50):\n",
        "https://towardsdatascience.com/time-to-choose-tensorflow-data-over-imagedatagenerator-215e594f2435\n",
        "\n",
        "Image data input pipelines:\n",
        "https://towardsdatascience.com/what-is-the-best-input-pipeline-to-train-image-classification-models-with-tf-keras-eb3fe26d3cc5\n",
        "\n",
        "Split TF datasets:\n",
        "https://towardsdatascience.com/how-to-split-a-tensorflow-dataset-into-train-validation-and-test-sets-526c8dd29438\n",
        "\n",
        "Transfer learning with EfficientNet:\n",
        "https://keras.io/examples/vision/image_classification_efficientnet_fine_tuning/\n",
        "\n",
        "Training greyscale images using transfer learning:\n",
        "https://stackoverflow.com/questions/51995977/how-can-i-use-a-pre-trained-neural-network-with-grayscale-images\n",
        "\n",
        "Multi-label vs multi-class classification:\n",
        "https://glassboxmedicine.com/2019/05/26/classification-sigmoid-vs-softmax/\n",
        "\n",
        "Element-wise sigmoid:\n",
        "https://www.programcreek.com/python/example/93769/keras.backend.sigmoid\n",
        "\n",
        "Element-wise sigmoid:\n",
        "https://stackoverflow.com/questions/52090857/how-to-apply-sigmoid-function-for-each-outputs-in-keras"
      ],
      "metadata": {
        "id": "iFVg1gboxmA6"
      },
      "id": "iFVg1gboxmA6"
    },
    {
      "cell_type": "markdown",
      "source": [
        "# Setup"
      ],
      "metadata": {
        "id": "OnEqCphqxYY3"
      },
      "id": "OnEqCphqxYY3"
    },
    {
      "cell_type": "markdown",
      "source": [
        "### Install packages"
      ],
      "metadata": {
        "id": "28arK-Bz3Y0X"
      },
      "id": "28arK-Bz3Y0X"
    },
    {
      "cell_type": "code",
      "source": [
        "# Install additional packages\n",
        "\n",
        "!pip install tf_keras_vis"
      ],
      "metadata": {
        "colab": {
          "base_uri": "https://localhost:8080/"
        },
        "id": "SAerYUXrhkHW",
        "outputId": "eee0168c-52ef-4d40-a562-20ed2af95f6a"
      },
      "id": "SAerYUXrhkHW",
      "execution_count": 73,
      "outputs": [
        {
          "output_type": "stream",
          "name": "stdout",
          "text": [
            "Requirement already satisfied: tf_keras_vis in /usr/local/lib/python3.7/dist-packages (0.8.1)\n",
            "Requirement already satisfied: pillow in /usr/local/lib/python3.7/dist-packages (from tf_keras_vis) (7.1.2)\n",
            "Requirement already satisfied: scipy in /usr/local/lib/python3.7/dist-packages (from tf_keras_vis) (1.4.1)\n",
            "Requirement already satisfied: imageio in /usr/local/lib/python3.7/dist-packages (from tf_keras_vis) (2.4.1)\n",
            "Requirement already satisfied: packaging in /usr/local/lib/python3.7/dist-packages (from tf_keras_vis) (21.3)\n",
            "Requirement already satisfied: importlib-metadata in /usr/local/lib/python3.7/dist-packages (from tf_keras_vis) (4.11.3)\n",
            "Requirement already satisfied: deprecated in /usr/local/lib/python3.7/dist-packages (from tf_keras_vis) (1.2.13)\n",
            "Requirement already satisfied: wrapt<2,>=1.10 in /usr/local/lib/python3.7/dist-packages (from deprecated->tf_keras_vis) (1.14.0)\n",
            "Requirement already satisfied: numpy in /usr/local/lib/python3.7/dist-packages (from imageio->tf_keras_vis) (1.21.6)\n",
            "Requirement already satisfied: zipp>=0.5 in /usr/local/lib/python3.7/dist-packages (from importlib-metadata->tf_keras_vis) (3.8.0)\n",
            "Requirement already satisfied: typing-extensions>=3.6.4 in /usr/local/lib/python3.7/dist-packages (from importlib-metadata->tf_keras_vis) (4.2.0)\n",
            "Requirement already satisfied: pyparsing!=3.0.5,>=2.0.2 in /usr/local/lib/python3.7/dist-packages (from packaging->tf_keras_vis) (3.0.8)\n"
          ]
        }
      ]
    },
    {
      "cell_type": "code",
      "execution_count": 74,
      "id": "15c5ebd5-787f-4930-9e3e-97f620170a85",
      "metadata": {
        "id": "15c5ebd5-787f-4930-9e3e-97f620170a85"
      },
      "outputs": [],
      "source": [
        "import os\n",
        "import pathlib\n",
        "import re\n",
        "from glob import glob\n",
        "import random\n",
        "import time\n",
        "import zipfile\n",
        "import imageio\n",
        "import matplotlib.pyplot as plt\n",
        "%matplotlib inline\n",
        "import numpy as np\n",
        "import pandas as pd\n",
        "import seaborn as sns\n",
        "import time\n",
        "from itertools import islice, count\n",
        "\n",
        "from PIL import Image\n",
        "import tensorflow as tf\n",
        "from tensorflow import keras\n",
        "from tensorflow.python.keras import backend as K\n",
        "from tensorflow.keras.backend import clear_session\n",
        "from tensorflow.keras.applications.resnet50 import ResNet50\n",
        "from tensorflow.keras.applications.efficientnet import EfficientNetB2\n",
        "from tensorflow.keras.applications import VGG16, VGG19\n",
        "from tensorflow.keras.models import Model, Sequential, load_model\n",
        "from tensorflow.keras import layers\n",
        "from tensorflow.keras.layers import Conv2D, Dense, Dropout, Activation, Input, BatchNormalization, GlobalAveragePooling2D\n",
        "from tensorflow.keras.layers.experimental.preprocessing import RandomFlip, RandomRotation, RandomZoom, RandomTranslation\n",
        "from tensorflow.keras.losses import binary_crossentropy\n",
        "from tensorflow.keras.metrics import AUC\n",
        "from tensorflow.keras.optimizers import Adam, SGD, Nadam, Adagrad, RMSprop\n",
        "from tensorflow.keras.regularizers import l1_l2, l1, l2\n",
        "from tensorflow.keras.constraints import MaxNorm\n",
        "from tensorflow.keras.callbacks import EarlyStopping, LearningRateScheduler, ReduceLROnPlateau\n",
        "from tensorflow.keras.initializers import he_normal, glorot_normal\n",
        "from tensorflow.keras.utils import to_categorical\n",
        "from tensorflow.keras import backend as K # element-wise sigmoid\n",
        "from tf_keras_vis.gradcam import Gradcam\n",
        "from tf_keras_vis.saliency import Saliency\n",
        "\n",
        "from sklearn.model_selection import train_test_split\n",
        "from sklearn.metrics import confusion_matrix\n",
        "from sklearn.metrics import classification_report"
      ]
    },
    {
      "cell_type": "markdown",
      "source": [
        "### Check GPU and CPU instances"
      ],
      "metadata": {
        "id": "I6gvr4sc3cfb"
      },
      "id": "I6gvr4sc3cfb"
    },
    {
      "cell_type": "code",
      "source": [
        "# Enable/Disable Eager Execution\n",
        "# Reference: https://www.tensorflow.org/guide/eager\n",
        "# TensorFlow's eager execution is an imperative programming environment\n",
        "# that evaluates operations immediately, without building graphs\n",
        "\n",
        "#tf.compat.v1.disable_eager_execution()\n",
        "#tf.compat.v1.enable_eager_execution()\n",
        "\n",
        "print(f\"tensorflow version {tf.__version__}\")\n",
        "print(f\"keras version {tf.keras.__version__}\")\n",
        "print(f\"Eager Execution Enabled: {tf.executing_eagerly()}\\n\")\n",
        "\n",
        "# Get the number of replicas \n",
        "strategy = tf.distribute.MirroredStrategy()\n",
        "print(\"Number of replicas:\", strategy.num_replicas_in_sync)\n",
        "\n",
        "devices = tf.config.experimental.get_visible_devices()\n",
        "print(\"Devices:\", devices)\n",
        "print(tf.config.experimental.list_logical_devices('GPU'))\n",
        "\n",
        "print(\"GPU Available: \", tf.config.list_physical_devices('GPU'))\n",
        "print(\"All Physical Devices\", tf.config.list_physical_devices())\n",
        "\n",
        "# Better performance with the tf.data API\n",
        "# Reference: https://www.tensorflow.org/guide/data_performance\n",
        "AUTOTUNE = tf.data.experimental.AUTOTUNE"
      ],
      "metadata": {
        "colab": {
          "base_uri": "https://localhost:8080/"
        },
        "id": "xrDrgnnjgWFr",
        "outputId": "a3ebe286-5236-4835-a608-4fcb2c697b22"
      },
      "id": "xrDrgnnjgWFr",
      "execution_count": 75,
      "outputs": [
        {
          "output_type": "stream",
          "name": "stdout",
          "text": [
            "tensorflow version 2.8.0\n",
            "keras version 2.8.0\n",
            "Eager Execution Enabled: True\n",
            "\n",
            "INFO:tensorflow:Using MirroredStrategy with devices ('/job:localhost/replica:0/task:0/device:GPU:0',)\n",
            "Number of replicas: 1\n",
            "Devices: [PhysicalDevice(name='/physical_device:CPU:0', device_type='CPU'), PhysicalDevice(name='/physical_device:GPU:0', device_type='GPU')]\n",
            "[LogicalDevice(name='/device:GPU:0', device_type='GPU')]\n",
            "GPU Available:  [PhysicalDevice(name='/physical_device:GPU:0', device_type='GPU')]\n",
            "All Physical Devices [PhysicalDevice(name='/physical_device:CPU:0', device_type='CPU'), PhysicalDevice(name='/physical_device:GPU:0', device_type='GPU')]\n"
          ]
        }
      ]
    },
    {
      "cell_type": "code",
      "source": [
        "# Check which GPU is assigned to the session\n",
        "!nvidia-smi"
      ],
      "metadata": {
        "colab": {
          "base_uri": "https://localhost:8080/"
        },
        "id": "Gx6Ew95FfI9v",
        "outputId": "9d61174d-d2b7-4cd3-aa9f-3bccf96de20e"
      },
      "id": "Gx6Ew95FfI9v",
      "execution_count": 76,
      "outputs": [
        {
          "output_type": "stream",
          "name": "stdout",
          "text": [
            "Fri Apr 29 23:06:49 2022       \n",
            "+-----------------------------------------------------------------------------+\n",
            "| NVIDIA-SMI 460.32.03    Driver Version: 460.32.03    CUDA Version: 11.2     |\n",
            "|-------------------------------+----------------------+----------------------+\n",
            "| GPU  Name        Persistence-M| Bus-Id        Disp.A | Volatile Uncorr. ECC |\n",
            "| Fan  Temp  Perf  Pwr:Usage/Cap|         Memory-Usage | GPU-Util  Compute M. |\n",
            "|                               |                      |               MIG M. |\n",
            "|===============================+======================+======================|\n",
            "|   0  Tesla T4            Off  | 00000000:00:04.0 Off |                    0 |\n",
            "| N/A   47C    P0    27W /  70W |   8982MiB / 15109MiB |      0%      Default |\n",
            "|                               |                      |                  N/A |\n",
            "+-------------------------------+----------------------+----------------------+\n",
            "                                                                               \n",
            "+-----------------------------------------------------------------------------+\n",
            "| Processes:                                                                  |\n",
            "|  GPU   GI   CI        PID   Type   Process name                  GPU Memory |\n",
            "|        ID   ID                                                   Usage      |\n",
            "|=============================================================================|\n",
            "+-----------------------------------------------------------------------------+\n"
          ]
        }
      ]
    },
    {
      "cell_type": "markdown",
      "source": [
        "### Set seeds and mount Google Drive"
      ],
      "metadata": {
        "id": "8ApQw4ga3kJ_"
      },
      "id": "8ApQw4ga3kJ_"
    },
    {
      "cell_type": "code",
      "source": [
        "# Ensure replicable results\n",
        "import os\n",
        "import random as rn\n",
        "SEED = 109\n",
        "tf.random.set_seed(SEED)\n",
        "os.environ['PYTHONHASHSEED'] = '0'\n",
        "os.environ['CUDA_VISIBLE_DEVICES'] = ''\n",
        "tf.random.set_seed(SEED)\n",
        "np.random.seed(SEED)\n",
        "rn.seed(SEED)"
      ],
      "metadata": {
        "id": "NBxFxxPbgaSE"
      },
      "id": "NBxFxxPbgaSE",
      "execution_count": 77,
      "outputs": []
    },
    {
      "cell_type": "code",
      "source": [
        "# Mount Google Drive\n",
        "from google.colab import drive\n",
        "drive.mount('/content/drive')\n",
        "\n",
        "# Path to Google Drive\n",
        "base_path = '/content/drive/My Drive/cs109b_final_project/'"
      ],
      "metadata": {
        "colab": {
          "base_uri": "https://localhost:8080/"
        },
        "id": "s-HjzMuCfWWC",
        "outputId": "6b153e5b-3f58-4801-b869-7ec926e35a04"
      },
      "id": "s-HjzMuCfWWC",
      "execution_count": 78,
      "outputs": [
        {
          "output_type": "stream",
          "name": "stdout",
          "text": [
            "Drive already mounted at /content/drive; to attempt to forcibly remount, call drive.mount(\"/content/drive\", force_remount=True).\n"
          ]
        }
      ]
    },
    {
      "cell_type": "markdown",
      "source": [
        "# Preprocessing"
      ],
      "metadata": {
        "id": "8E1wV_dMv8LD"
      },
      "id": "8E1wV_dMv8LD"
    },
    {
      "cell_type": "markdown",
      "source": [
        "### Load image data into TF datasets"
      ],
      "metadata": {
        "id": "a3ArpOmjDRZn"
      },
      "id": "a3ArpOmjDRZn"
    },
    {
      "cell_type": "code",
      "source": [
        "# Get image filenames\n",
        "\n",
        "# Path to images\n",
        "images_path = base_path + 'images_rescaled_subsample'\n",
        "\n",
        "# Filenames with full absolute paths\n",
        "images_filenames_full_path = glob(images_path + '/*')\n",
        "\n",
        "# Sort to be consistent\n",
        "images_filenames_full_path.sort()\n",
        "\n",
        "# Get terminal filenames\n",
        "images_filenames = [re.sub('^(.*[/])', '', x) for x in images_filenames_full_path]"
      ],
      "metadata": {
        "id": "l4o_kZVGzu29"
      },
      "id": "l4o_kZVGzu29",
      "execution_count": 79,
      "outputs": []
    },
    {
      "cell_type": "code",
      "source": [
        "# Function to load the image data into TF datasets\n",
        "\n",
        "def make_tf_image_dataset(filenames, image_size):\n",
        "\n",
        "  def parse_image(filename):\n",
        "    image = tf.io.read_file(filename)\n",
        "    image = tf.image.decode_png(image, channels=3)\n",
        "    image = tf.image.resize(image, [IMG_SIZE, IMG_SIZE])\n",
        "    return image\n",
        "\n",
        "  filenames_ds = tf.data.Dataset.from_tensor_slices(filenames)\n",
        "  images_ds = filenames_ds.map(parse_image, num_parallel_calls=AUTOTUNE)\n",
        "\n",
        "  return images_ds"
      ],
      "metadata": {
        "id": "wZxu6oWrfeWW"
      },
      "id": "wZxu6oWrfeWW",
      "execution_count": 80,
      "outputs": []
    },
    {
      "cell_type": "code",
      "source": [
        "# Load the image and label data into TF datasets\n",
        "# NOTE: this will load the grayscale image repeated 3 times (i.e., 3 channels)\n",
        "\n",
        "IMG_SIZE = 256\n",
        "\n",
        "images_ds = make_tf_image_dataset(filenames=images_filenames_full_path, image_size=IMG_SIZE)\n",
        "\n",
        "print(\"images_ds shape: \", images_ds)\n",
        "print(\"number of images parsed: \", images_ds.cardinality().numpy())"
      ],
      "metadata": {
        "colab": {
          "base_uri": "https://localhost:8080/"
        },
        "id": "opvd7Y39kMAA",
        "outputId": "156f9213-4c9a-429b-b4bc-f13adcc54fd2"
      },
      "id": "opvd7Y39kMAA",
      "execution_count": 81,
      "outputs": [
        {
          "output_type": "stream",
          "name": "stdout",
          "text": [
            "images_ds shape:  <ParallelMapDataset element_spec=TensorSpec(shape=(256, 256, 3), dtype=tf.float32, name=None)>\n",
            "number of images parsed:  1100\n"
          ]
        }
      ]
    },
    {
      "cell_type": "markdown",
      "source": [
        "### Load label data into TF datasets"
      ],
      "metadata": {
        "id": "WC1kWzdlwCo0"
      },
      "id": "WC1kWzdlwCo0"
    },
    {
      "cell_type": "markdown",
      "source": [
        "#### From \"train_relabeled.csv\" and \"valid_relabeled.csv\""
      ],
      "metadata": {
        "id": "lWAPzVMYKr7X"
      },
      "id": "lWAPzVMYKr7X"
    },
    {
      "cell_type": "code",
      "source": [
        "# # Load label data from \"train_relabeled.csv\" and \"valid_relabeled.csv\"\n",
        "\n",
        "# # Limit scope to 8 diseases in original paper\n",
        "# columns_to_keep = ['Path', 'Atelectasis', 'Cardiomegaly', 'Effusion', 'Infiltration', 'Mass', 'Nodule', 'Pneumonia', 'Pneumothorax']\n",
        "\n",
        "# # Load \"train_relabeled.csv\" and \"valid_relabeled.csv\"\n",
        "# train_labels_df = pd.read_csv(google_drive_path + 'label_data/train_relabeled.csv')[columns_to_keep]\n",
        "# valid_labels_df = pd.read_csv(google_drive_path + 'label_data/valid_relabeled.csv')[columns_to_keep]\n",
        "\n",
        "# # Examine first 5 rows of training dataframe\n",
        "# print(f'Shape of train_labels_df: {train_labels_df.shape}')\n",
        "# display(train_labels_df.head())\n",
        "\n",
        "# # Examine first 5 rows of validation dataframe\n",
        "# print(f'Shape of valid_labels_df: {valid_labels_df.shape}')\n",
        "# display(valid_labels_df.head())\n",
        "\n",
        "# # Stack the two DataFrames\n",
        "# labels_df = pd.concat([train_labels_df, valid_labels_df], ignore_index=True, axis=0)\n",
        "\n",
        "# # Remove the 'images/' prefix from the Path column\n",
        "# labels_df['Path'] = labels_df['Path'].apply(lambda x: re.sub('^(.*[/])', '', x))\n",
        "\n",
        "# # Examine first 5 rows of combined dataframe\n",
        "# print(f'Shape of labels_df: {labels_df.shape}')\n",
        "# display(labels_df.head())"
      ],
      "metadata": {
        "id": "USBvBuEd2LVX"
      },
      "id": "USBvBuEd2LVX",
      "execution_count": 13,
      "outputs": []
    },
    {
      "cell_type": "markdown",
      "source": [
        "#### From \"Data_Entry_2017_v2020.csv\""
      ],
      "metadata": {
        "id": "yoXeC_HKKxkq"
      },
      "id": "yoXeC_HKKxkq"
    },
    {
      "cell_type": "code",
      "source": [
        "# Load Data_Entry_2017_v2020.csv\n",
        "\n",
        "labels_path = base_path + 'meta_data/Data_Entry_2017_v2020.csv'\n",
        "data_entry_df = pd.read_csv(labels_path)\n",
        "\n",
        "# Examine first 5 rows of dataframe\n",
        "print(f'Shape of data_entry_df: {data_entry_df.shape}')\n",
        "display(data_entry_df.head())"
      ],
      "metadata": {
        "colab": {
          "base_uri": "https://localhost:8080/",
          "height": 225
        },
        "id": "v_2xeqhmGoZi",
        "outputId": "b23b2091-5e48-4183-c8ec-ee11d9724d66"
      },
      "id": "v_2xeqhmGoZi",
      "execution_count": 82,
      "outputs": [
        {
          "output_type": "stream",
          "name": "stdout",
          "text": [
            "Shape of data_entry_df: (112120, 11)\n"
          ]
        },
        {
          "output_type": "display_data",
          "data": {
            "text/plain": [
              "        Image Index          Finding Labels  Follow-up #  Patient ID  \\\n",
              "0  00000001_000.png            Cardiomegaly            0           1   \n",
              "1  00000001_001.png  Cardiomegaly|Emphysema            1           1   \n",
              "2  00000001_002.png   Cardiomegaly|Effusion            2           1   \n",
              "3  00000002_000.png              No Finding            0           2   \n",
              "4  00000003_001.png                  Hernia            0           3   \n",
              "\n",
              "   Patient Age Patient Gender View Position  OriginalImage[Width  Height]  \\\n",
              "0           57              M            PA                 2682     2749   \n",
              "1           58              M            PA                 2894     2729   \n",
              "2           58              M            PA                 2500     2048   \n",
              "3           80              M            PA                 2500     2048   \n",
              "4           74              F            PA                 2500     2048   \n",
              "\n",
              "   OriginalImagePixelSpacing[x     y]  \n",
              "0                        0.143  0.143  \n",
              "1                        0.143  0.143  \n",
              "2                        0.168  0.168  \n",
              "3                        0.171  0.171  \n",
              "4                        0.168  0.168  "
            ],
            "text/html": [
              "\n",
              "  <div id=\"df-f1c82a27-50c3-41fc-8b31-3d47c2bfda73\">\n",
              "    <div class=\"colab-df-container\">\n",
              "      <div>\n",
              "<style scoped>\n",
              "    .dataframe tbody tr th:only-of-type {\n",
              "        vertical-align: middle;\n",
              "    }\n",
              "\n",
              "    .dataframe tbody tr th {\n",
              "        vertical-align: top;\n",
              "    }\n",
              "\n",
              "    .dataframe thead th {\n",
              "        text-align: right;\n",
              "    }\n",
              "</style>\n",
              "<table border=\"1\" class=\"dataframe\">\n",
              "  <thead>\n",
              "    <tr style=\"text-align: right;\">\n",
              "      <th></th>\n",
              "      <th>Image Index</th>\n",
              "      <th>Finding Labels</th>\n",
              "      <th>Follow-up #</th>\n",
              "      <th>Patient ID</th>\n",
              "      <th>Patient Age</th>\n",
              "      <th>Patient Gender</th>\n",
              "      <th>View Position</th>\n",
              "      <th>OriginalImage[Width</th>\n",
              "      <th>Height]</th>\n",
              "      <th>OriginalImagePixelSpacing[x</th>\n",
              "      <th>y]</th>\n",
              "    </tr>\n",
              "  </thead>\n",
              "  <tbody>\n",
              "    <tr>\n",
              "      <th>0</th>\n",
              "      <td>00000001_000.png</td>\n",
              "      <td>Cardiomegaly</td>\n",
              "      <td>0</td>\n",
              "      <td>1</td>\n",
              "      <td>57</td>\n",
              "      <td>M</td>\n",
              "      <td>PA</td>\n",
              "      <td>2682</td>\n",
              "      <td>2749</td>\n",
              "      <td>0.143</td>\n",
              "      <td>0.143</td>\n",
              "    </tr>\n",
              "    <tr>\n",
              "      <th>1</th>\n",
              "      <td>00000001_001.png</td>\n",
              "      <td>Cardiomegaly|Emphysema</td>\n",
              "      <td>1</td>\n",
              "      <td>1</td>\n",
              "      <td>58</td>\n",
              "      <td>M</td>\n",
              "      <td>PA</td>\n",
              "      <td>2894</td>\n",
              "      <td>2729</td>\n",
              "      <td>0.143</td>\n",
              "      <td>0.143</td>\n",
              "    </tr>\n",
              "    <tr>\n",
              "      <th>2</th>\n",
              "      <td>00000001_002.png</td>\n",
              "      <td>Cardiomegaly|Effusion</td>\n",
              "      <td>2</td>\n",
              "      <td>1</td>\n",
              "      <td>58</td>\n",
              "      <td>M</td>\n",
              "      <td>PA</td>\n",
              "      <td>2500</td>\n",
              "      <td>2048</td>\n",
              "      <td>0.168</td>\n",
              "      <td>0.168</td>\n",
              "    </tr>\n",
              "    <tr>\n",
              "      <th>3</th>\n",
              "      <td>00000002_000.png</td>\n",
              "      <td>No Finding</td>\n",
              "      <td>0</td>\n",
              "      <td>2</td>\n",
              "      <td>80</td>\n",
              "      <td>M</td>\n",
              "      <td>PA</td>\n",
              "      <td>2500</td>\n",
              "      <td>2048</td>\n",
              "      <td>0.171</td>\n",
              "      <td>0.171</td>\n",
              "    </tr>\n",
              "    <tr>\n",
              "      <th>4</th>\n",
              "      <td>00000003_001.png</td>\n",
              "      <td>Hernia</td>\n",
              "      <td>0</td>\n",
              "      <td>3</td>\n",
              "      <td>74</td>\n",
              "      <td>F</td>\n",
              "      <td>PA</td>\n",
              "      <td>2500</td>\n",
              "      <td>2048</td>\n",
              "      <td>0.168</td>\n",
              "      <td>0.168</td>\n",
              "    </tr>\n",
              "  </tbody>\n",
              "</table>\n",
              "</div>\n",
              "      <button class=\"colab-df-convert\" onclick=\"convertToInteractive('df-f1c82a27-50c3-41fc-8b31-3d47c2bfda73')\"\n",
              "              title=\"Convert this dataframe to an interactive table.\"\n",
              "              style=\"display:none;\">\n",
              "        \n",
              "  <svg xmlns=\"http://www.w3.org/2000/svg\" height=\"24px\"viewBox=\"0 0 24 24\"\n",
              "       width=\"24px\">\n",
              "    <path d=\"M0 0h24v24H0V0z\" fill=\"none\"/>\n",
              "    <path d=\"M18.56 5.44l.94 2.06.94-2.06 2.06-.94-2.06-.94-.94-2.06-.94 2.06-2.06.94zm-11 1L8.5 8.5l.94-2.06 2.06-.94-2.06-.94L8.5 2.5l-.94 2.06-2.06.94zm10 10l.94 2.06.94-2.06 2.06-.94-2.06-.94-.94-2.06-.94 2.06-2.06.94z\"/><path d=\"M17.41 7.96l-1.37-1.37c-.4-.4-.92-.59-1.43-.59-.52 0-1.04.2-1.43.59L10.3 9.45l-7.72 7.72c-.78.78-.78 2.05 0 2.83L4 21.41c.39.39.9.59 1.41.59.51 0 1.02-.2 1.41-.59l7.78-7.78 2.81-2.81c.8-.78.8-2.07 0-2.86zM5.41 20L4 18.59l7.72-7.72 1.47 1.35L5.41 20z\"/>\n",
              "  </svg>\n",
              "      </button>\n",
              "      \n",
              "  <style>\n",
              "    .colab-df-container {\n",
              "      display:flex;\n",
              "      flex-wrap:wrap;\n",
              "      gap: 12px;\n",
              "    }\n",
              "\n",
              "    .colab-df-convert {\n",
              "      background-color: #E8F0FE;\n",
              "      border: none;\n",
              "      border-radius: 50%;\n",
              "      cursor: pointer;\n",
              "      display: none;\n",
              "      fill: #1967D2;\n",
              "      height: 32px;\n",
              "      padding: 0 0 0 0;\n",
              "      width: 32px;\n",
              "    }\n",
              "\n",
              "    .colab-df-convert:hover {\n",
              "      background-color: #E2EBFA;\n",
              "      box-shadow: 0px 1px 2px rgba(60, 64, 67, 0.3), 0px 1px 3px 1px rgba(60, 64, 67, 0.15);\n",
              "      fill: #174EA6;\n",
              "    }\n",
              "\n",
              "    [theme=dark] .colab-df-convert {\n",
              "      background-color: #3B4455;\n",
              "      fill: #D2E3FC;\n",
              "    }\n",
              "\n",
              "    [theme=dark] .colab-df-convert:hover {\n",
              "      background-color: #434B5C;\n",
              "      box-shadow: 0px 1px 3px 1px rgba(0, 0, 0, 0.15);\n",
              "      filter: drop-shadow(0px 1px 2px rgba(0, 0, 0, 0.3));\n",
              "      fill: #FFFFFF;\n",
              "    }\n",
              "  </style>\n",
              "\n",
              "      <script>\n",
              "        const buttonEl =\n",
              "          document.querySelector('#df-f1c82a27-50c3-41fc-8b31-3d47c2bfda73 button.colab-df-convert');\n",
              "        buttonEl.style.display =\n",
              "          google.colab.kernel.accessAllowed ? 'block' : 'none';\n",
              "\n",
              "        async function convertToInteractive(key) {\n",
              "          const element = document.querySelector('#df-f1c82a27-50c3-41fc-8b31-3d47c2bfda73');\n",
              "          const dataTable =\n",
              "            await google.colab.kernel.invokeFunction('convertToInteractive',\n",
              "                                                     [key], {});\n",
              "          if (!dataTable) return;\n",
              "\n",
              "          const docLinkHtml = 'Like what you see? Visit the ' +\n",
              "            '<a target=\"_blank\" href=https://colab.research.google.com/notebooks/data_table.ipynb>data table notebook</a>'\n",
              "            + ' to learn more about interactive tables.';\n",
              "          element.innerHTML = '';\n",
              "          dataTable['output_type'] = 'display_data';\n",
              "          await google.colab.output.renderOutput(dataTable, element);\n",
              "          const docLink = document.createElement('div');\n",
              "          docLink.innerHTML = docLinkHtml;\n",
              "          element.appendChild(docLink);\n",
              "        }\n",
              "      </script>\n",
              "    </div>\n",
              "  </div>\n",
              "  "
            ]
          },
          "metadata": {}
        }
      ]
    },
    {
      "cell_type": "code",
      "source": [
        "# Determine the number of unique label combinations\n",
        "disease_combinations = data_entry_df['Finding Labels'].unique()\n",
        "print(f'Number of unique disease combinations: {len(disease_combinations)}\\n')\n",
        "\n",
        "# Split up disease_combinations into individual diseases - get number of unique labels\n",
        "disease_combinations_split = [combination.split('|') for combination in disease_combinations]\n",
        "diseases = list(set([disease for observation in disease_combinations_split for disease in observation]))\n",
        "\n",
        "# Sanity check - how many unique diseases are present in the data\n",
        "print(f'Number of unique diseases (including No Finding): {len(diseases)}\\n')\n",
        "print('Unique diseases (including No Finding): \\n')\n",
        "for disease in diseases:\n",
        "  print(disease)"
      ],
      "metadata": {
        "colab": {
          "base_uri": "https://localhost:8080/"
        },
        "id": "8sW3EAh5H17A",
        "outputId": "e0f12d92-857f-4d9b-a6e3-f8ae2fce1072"
      },
      "id": "8sW3EAh5H17A",
      "execution_count": 83,
      "outputs": [
        {
          "output_type": "stream",
          "name": "stdout",
          "text": [
            "Number of unique disease combinations: 836\n",
            "\n",
            "Number of unique diseases (including No Finding): 15\n",
            "\n",
            "Unique diseases (including No Finding): \n",
            "\n",
            "Pneumothorax\n",
            "Emphysema\n",
            "Mass\n",
            "Effusion\n",
            "Consolidation\n",
            "Nodule\n",
            "Infiltration\n",
            "Pneumonia\n",
            "Hernia\n",
            "Pleural_Thickening\n",
            "No Finding\n",
            "Fibrosis\n",
            "Edema\n",
            "Atelectasis\n",
            "Cardiomegaly\n"
          ]
        }
      ]
    },
    {
      "cell_type": "code",
      "source": [
        "# One hot encode label data\n",
        "\n",
        "# Rename image column\n",
        "data_entry_df = data_entry_df.rename({'Image Index': 'image_filename'}, axis=1)\n",
        "\n",
        "# Limit scope to 8 diseases in original paper plus 'No Finding'\n",
        "diseases_to_keep = ['No Finding', 'Atelectasis', 'Cardiomegaly', 'Effusion', 'Infiltration', 'Mass', 'Nodule', 'Pneumonia', 'Pneumothorax']\n",
        "diseases = [disease for disease in diseases if disease in diseases_to_keep]\n",
        "\n",
        "# Helper function to create one-hot encoded dataframe\n",
        "@np.vectorize\n",
        "def one_hot_disease(label, disease='No Finding'):\n",
        "  if disease in label:\n",
        "    return 1\n",
        "  return 0\n",
        "\n",
        "# Create one-hot encoded dataframe\n",
        "one_hot_disease_df = data_entry_df[['image_filename']]\n",
        "for disease in diseases:\n",
        "  one_hot_disease_df[disease] = one_hot_disease(data_entry_df['Finding Labels'], disease=disease)\n",
        "\n",
        "# Rename no finding column\n",
        "one_hot_disease_df = one_hot_disease_df.rename({'No Finding': 'No_Finding'}, axis=1)\n",
        "\n",
        "# Save results\n",
        "one_hot_disease_df.to_csv(base_path + 'output/one_hot_data_entry.csv', index=False)\n",
        "\n",
        "# Examine first 5 rows of one_hot_disease_df dataframe\n",
        "print(f'Shape of one_hot_disease_df: {one_hot_disease_df.shape}')\n",
        "display(one_hot_disease_df.head())"
      ],
      "metadata": {
        "colab": {
          "base_uri": "https://localhost:8080/",
          "height": 315
        },
        "id": "n8R2IH6GGzcd",
        "outputId": "7812e468-4752-4e2c-8b3f-8d445a050675"
      },
      "id": "n8R2IH6GGzcd",
      "execution_count": 84,
      "outputs": [
        {
          "output_type": "stream",
          "name": "stderr",
          "text": [
            "/usr/local/lib/python3.7/dist-packages/ipykernel_launcher.py:20: SettingWithCopyWarning: \n",
            "A value is trying to be set on a copy of a slice from a DataFrame.\n",
            "Try using .loc[row_indexer,col_indexer] = value instead\n",
            "\n",
            "See the caveats in the documentation: https://pandas.pydata.org/pandas-docs/stable/user_guide/indexing.html#returning-a-view-versus-a-copy\n"
          ]
        },
        {
          "output_type": "stream",
          "name": "stdout",
          "text": [
            "Shape of one_hot_disease_df: (112120, 10)\n"
          ]
        },
        {
          "output_type": "display_data",
          "data": {
            "text/plain": [
              "     image_filename  Pneumothorax  Mass  Effusion  Nodule  Infiltration  \\\n",
              "0  00000001_000.png             0     0         0       0             0   \n",
              "1  00000001_001.png             0     0         0       0             0   \n",
              "2  00000001_002.png             0     0         1       0             0   \n",
              "3  00000002_000.png             0     0         0       0             0   \n",
              "4  00000003_001.png             0     0         0       0             0   \n",
              "\n",
              "   Pneumonia  No_Finding  Atelectasis  Cardiomegaly  \n",
              "0          0           0            0             1  \n",
              "1          0           0            0             1  \n",
              "2          0           0            0             1  \n",
              "3          0           1            0             0  \n",
              "4          0           0            0             0  "
            ],
            "text/html": [
              "\n",
              "  <div id=\"df-ffc04611-23c5-4fed-adf0-35bddc6f74dc\">\n",
              "    <div class=\"colab-df-container\">\n",
              "      <div>\n",
              "<style scoped>\n",
              "    .dataframe tbody tr th:only-of-type {\n",
              "        vertical-align: middle;\n",
              "    }\n",
              "\n",
              "    .dataframe tbody tr th {\n",
              "        vertical-align: top;\n",
              "    }\n",
              "\n",
              "    .dataframe thead th {\n",
              "        text-align: right;\n",
              "    }\n",
              "</style>\n",
              "<table border=\"1\" class=\"dataframe\">\n",
              "  <thead>\n",
              "    <tr style=\"text-align: right;\">\n",
              "      <th></th>\n",
              "      <th>image_filename</th>\n",
              "      <th>Pneumothorax</th>\n",
              "      <th>Mass</th>\n",
              "      <th>Effusion</th>\n",
              "      <th>Nodule</th>\n",
              "      <th>Infiltration</th>\n",
              "      <th>Pneumonia</th>\n",
              "      <th>No_Finding</th>\n",
              "      <th>Atelectasis</th>\n",
              "      <th>Cardiomegaly</th>\n",
              "    </tr>\n",
              "  </thead>\n",
              "  <tbody>\n",
              "    <tr>\n",
              "      <th>0</th>\n",
              "      <td>00000001_000.png</td>\n",
              "      <td>0</td>\n",
              "      <td>0</td>\n",
              "      <td>0</td>\n",
              "      <td>0</td>\n",
              "      <td>0</td>\n",
              "      <td>0</td>\n",
              "      <td>0</td>\n",
              "      <td>0</td>\n",
              "      <td>1</td>\n",
              "    </tr>\n",
              "    <tr>\n",
              "      <th>1</th>\n",
              "      <td>00000001_001.png</td>\n",
              "      <td>0</td>\n",
              "      <td>0</td>\n",
              "      <td>0</td>\n",
              "      <td>0</td>\n",
              "      <td>0</td>\n",
              "      <td>0</td>\n",
              "      <td>0</td>\n",
              "      <td>0</td>\n",
              "      <td>1</td>\n",
              "    </tr>\n",
              "    <tr>\n",
              "      <th>2</th>\n",
              "      <td>00000001_002.png</td>\n",
              "      <td>0</td>\n",
              "      <td>0</td>\n",
              "      <td>1</td>\n",
              "      <td>0</td>\n",
              "      <td>0</td>\n",
              "      <td>0</td>\n",
              "      <td>0</td>\n",
              "      <td>0</td>\n",
              "      <td>1</td>\n",
              "    </tr>\n",
              "    <tr>\n",
              "      <th>3</th>\n",
              "      <td>00000002_000.png</td>\n",
              "      <td>0</td>\n",
              "      <td>0</td>\n",
              "      <td>0</td>\n",
              "      <td>0</td>\n",
              "      <td>0</td>\n",
              "      <td>0</td>\n",
              "      <td>1</td>\n",
              "      <td>0</td>\n",
              "      <td>0</td>\n",
              "    </tr>\n",
              "    <tr>\n",
              "      <th>4</th>\n",
              "      <td>00000003_001.png</td>\n",
              "      <td>0</td>\n",
              "      <td>0</td>\n",
              "      <td>0</td>\n",
              "      <td>0</td>\n",
              "      <td>0</td>\n",
              "      <td>0</td>\n",
              "      <td>0</td>\n",
              "      <td>0</td>\n",
              "      <td>0</td>\n",
              "    </tr>\n",
              "  </tbody>\n",
              "</table>\n",
              "</div>\n",
              "      <button class=\"colab-df-convert\" onclick=\"convertToInteractive('df-ffc04611-23c5-4fed-adf0-35bddc6f74dc')\"\n",
              "              title=\"Convert this dataframe to an interactive table.\"\n",
              "              style=\"display:none;\">\n",
              "        \n",
              "  <svg xmlns=\"http://www.w3.org/2000/svg\" height=\"24px\"viewBox=\"0 0 24 24\"\n",
              "       width=\"24px\">\n",
              "    <path d=\"M0 0h24v24H0V0z\" fill=\"none\"/>\n",
              "    <path d=\"M18.56 5.44l.94 2.06.94-2.06 2.06-.94-2.06-.94-.94-2.06-.94 2.06-2.06.94zm-11 1L8.5 8.5l.94-2.06 2.06-.94-2.06-.94L8.5 2.5l-.94 2.06-2.06.94zm10 10l.94 2.06.94-2.06 2.06-.94-2.06-.94-.94-2.06-.94 2.06-2.06.94z\"/><path d=\"M17.41 7.96l-1.37-1.37c-.4-.4-.92-.59-1.43-.59-.52 0-1.04.2-1.43.59L10.3 9.45l-7.72 7.72c-.78.78-.78 2.05 0 2.83L4 21.41c.39.39.9.59 1.41.59.51 0 1.02-.2 1.41-.59l7.78-7.78 2.81-2.81c.8-.78.8-2.07 0-2.86zM5.41 20L4 18.59l7.72-7.72 1.47 1.35L5.41 20z\"/>\n",
              "  </svg>\n",
              "      </button>\n",
              "      \n",
              "  <style>\n",
              "    .colab-df-container {\n",
              "      display:flex;\n",
              "      flex-wrap:wrap;\n",
              "      gap: 12px;\n",
              "    }\n",
              "\n",
              "    .colab-df-convert {\n",
              "      background-color: #E8F0FE;\n",
              "      border: none;\n",
              "      border-radius: 50%;\n",
              "      cursor: pointer;\n",
              "      display: none;\n",
              "      fill: #1967D2;\n",
              "      height: 32px;\n",
              "      padding: 0 0 0 0;\n",
              "      width: 32px;\n",
              "    }\n",
              "\n",
              "    .colab-df-convert:hover {\n",
              "      background-color: #E2EBFA;\n",
              "      box-shadow: 0px 1px 2px rgba(60, 64, 67, 0.3), 0px 1px 3px 1px rgba(60, 64, 67, 0.15);\n",
              "      fill: #174EA6;\n",
              "    }\n",
              "\n",
              "    [theme=dark] .colab-df-convert {\n",
              "      background-color: #3B4455;\n",
              "      fill: #D2E3FC;\n",
              "    }\n",
              "\n",
              "    [theme=dark] .colab-df-convert:hover {\n",
              "      background-color: #434B5C;\n",
              "      box-shadow: 0px 1px 3px 1px rgba(0, 0, 0, 0.15);\n",
              "      filter: drop-shadow(0px 1px 2px rgba(0, 0, 0, 0.3));\n",
              "      fill: #FFFFFF;\n",
              "    }\n",
              "  </style>\n",
              "\n",
              "      <script>\n",
              "        const buttonEl =\n",
              "          document.querySelector('#df-ffc04611-23c5-4fed-adf0-35bddc6f74dc button.colab-df-convert');\n",
              "        buttonEl.style.display =\n",
              "          google.colab.kernel.accessAllowed ? 'block' : 'none';\n",
              "\n",
              "        async function convertToInteractive(key) {\n",
              "          const element = document.querySelector('#df-ffc04611-23c5-4fed-adf0-35bddc6f74dc');\n",
              "          const dataTable =\n",
              "            await google.colab.kernel.invokeFunction('convertToInteractive',\n",
              "                                                     [key], {});\n",
              "          if (!dataTable) return;\n",
              "\n",
              "          const docLinkHtml = 'Like what you see? Visit the ' +\n",
              "            '<a target=\"_blank\" href=https://colab.research.google.com/notebooks/data_table.ipynb>data table notebook</a>'\n",
              "            + ' to learn more about interactive tables.';\n",
              "          element.innerHTML = '';\n",
              "          dataTable['output_type'] = 'display_data';\n",
              "          await google.colab.output.renderOutput(dataTable, element);\n",
              "          const docLink = document.createElement('div');\n",
              "          docLink.innerHTML = docLinkHtml;\n",
              "          element.appendChild(docLink);\n",
              "        }\n",
              "      </script>\n",
              "    </div>\n",
              "  </div>\n",
              "  "
            ]
          },
          "metadata": {}
        }
      ]
    },
    {
      "cell_type": "code",
      "source": [
        "# Subset labels_df to include only subsample\n",
        "\n",
        "# Logically index labels_df based on subsample filenames\n",
        "labels_subsample_df = one_hot_disease_df[one_hot_disease_df['image_filename'].isin(images_filenames)]\n",
        "\n",
        "# Reorder labels to match image order\n",
        "labels_subsample_df = labels_subsample_df.sort_values('image_filename') \n",
        "\n",
        "# Examine first 5 rows of labels_subsample_df dataframe\n",
        "print(f'Shape of labels_subsample_df: {labels_subsample_df.shape}')\n",
        "display(labels_subsample_df.head())"
      ],
      "metadata": {
        "colab": {
          "base_uri": "https://localhost:8080/",
          "height": 225
        },
        "id": "QBwEd1ll5gKX",
        "outputId": "970bff01-8adc-4f57-984c-f7d7be52d870"
      },
      "id": "QBwEd1ll5gKX",
      "execution_count": 85,
      "outputs": [
        {
          "output_type": "stream",
          "name": "stdout",
          "text": [
            "Shape of labels_subsample_df: (1100, 10)\n"
          ]
        },
        {
          "output_type": "display_data",
          "data": {
            "text/plain": [
              "       image_filename  Pneumothorax  Mass  Effusion  Nodule  Infiltration  \\\n",
              "151  00000032_037.png             0     0         0       0             1   \n",
              "310  00000072_000.png             0     0         0       0             0   \n",
              "596  00000147_001.png             0     0         0       0             0   \n",
              "608  00000149_006.png             0     0         0       0             0   \n",
              "614  00000150_002.png             0     0         0       0             1   \n",
              "\n",
              "     Pneumonia  No_Finding  Atelectasis  Cardiomegaly  \n",
              "151          0           0            0             1  \n",
              "310          0           0            1             0  \n",
              "596          0           0            1             0  \n",
              "608          0           0            1             0  \n",
              "614          1           0            1             0  "
            ],
            "text/html": [
              "\n",
              "  <div id=\"df-2cc34271-4683-4e0d-a0d8-75ffbc13774e\">\n",
              "    <div class=\"colab-df-container\">\n",
              "      <div>\n",
              "<style scoped>\n",
              "    .dataframe tbody tr th:only-of-type {\n",
              "        vertical-align: middle;\n",
              "    }\n",
              "\n",
              "    .dataframe tbody tr th {\n",
              "        vertical-align: top;\n",
              "    }\n",
              "\n",
              "    .dataframe thead th {\n",
              "        text-align: right;\n",
              "    }\n",
              "</style>\n",
              "<table border=\"1\" class=\"dataframe\">\n",
              "  <thead>\n",
              "    <tr style=\"text-align: right;\">\n",
              "      <th></th>\n",
              "      <th>image_filename</th>\n",
              "      <th>Pneumothorax</th>\n",
              "      <th>Mass</th>\n",
              "      <th>Effusion</th>\n",
              "      <th>Nodule</th>\n",
              "      <th>Infiltration</th>\n",
              "      <th>Pneumonia</th>\n",
              "      <th>No_Finding</th>\n",
              "      <th>Atelectasis</th>\n",
              "      <th>Cardiomegaly</th>\n",
              "    </tr>\n",
              "  </thead>\n",
              "  <tbody>\n",
              "    <tr>\n",
              "      <th>151</th>\n",
              "      <td>00000032_037.png</td>\n",
              "      <td>0</td>\n",
              "      <td>0</td>\n",
              "      <td>0</td>\n",
              "      <td>0</td>\n",
              "      <td>1</td>\n",
              "      <td>0</td>\n",
              "      <td>0</td>\n",
              "      <td>0</td>\n",
              "      <td>1</td>\n",
              "    </tr>\n",
              "    <tr>\n",
              "      <th>310</th>\n",
              "      <td>00000072_000.png</td>\n",
              "      <td>0</td>\n",
              "      <td>0</td>\n",
              "      <td>0</td>\n",
              "      <td>0</td>\n",
              "      <td>0</td>\n",
              "      <td>0</td>\n",
              "      <td>0</td>\n",
              "      <td>1</td>\n",
              "      <td>0</td>\n",
              "    </tr>\n",
              "    <tr>\n",
              "      <th>596</th>\n",
              "      <td>00000147_001.png</td>\n",
              "      <td>0</td>\n",
              "      <td>0</td>\n",
              "      <td>0</td>\n",
              "      <td>0</td>\n",
              "      <td>0</td>\n",
              "      <td>0</td>\n",
              "      <td>0</td>\n",
              "      <td>1</td>\n",
              "      <td>0</td>\n",
              "    </tr>\n",
              "    <tr>\n",
              "      <th>608</th>\n",
              "      <td>00000149_006.png</td>\n",
              "      <td>0</td>\n",
              "      <td>0</td>\n",
              "      <td>0</td>\n",
              "      <td>0</td>\n",
              "      <td>0</td>\n",
              "      <td>0</td>\n",
              "      <td>0</td>\n",
              "      <td>1</td>\n",
              "      <td>0</td>\n",
              "    </tr>\n",
              "    <tr>\n",
              "      <th>614</th>\n",
              "      <td>00000150_002.png</td>\n",
              "      <td>0</td>\n",
              "      <td>0</td>\n",
              "      <td>0</td>\n",
              "      <td>0</td>\n",
              "      <td>1</td>\n",
              "      <td>1</td>\n",
              "      <td>0</td>\n",
              "      <td>1</td>\n",
              "      <td>0</td>\n",
              "    </tr>\n",
              "  </tbody>\n",
              "</table>\n",
              "</div>\n",
              "      <button class=\"colab-df-convert\" onclick=\"convertToInteractive('df-2cc34271-4683-4e0d-a0d8-75ffbc13774e')\"\n",
              "              title=\"Convert this dataframe to an interactive table.\"\n",
              "              style=\"display:none;\">\n",
              "        \n",
              "  <svg xmlns=\"http://www.w3.org/2000/svg\" height=\"24px\"viewBox=\"0 0 24 24\"\n",
              "       width=\"24px\">\n",
              "    <path d=\"M0 0h24v24H0V0z\" fill=\"none\"/>\n",
              "    <path d=\"M18.56 5.44l.94 2.06.94-2.06 2.06-.94-2.06-.94-.94-2.06-.94 2.06-2.06.94zm-11 1L8.5 8.5l.94-2.06 2.06-.94-2.06-.94L8.5 2.5l-.94 2.06-2.06.94zm10 10l.94 2.06.94-2.06 2.06-.94-2.06-.94-.94-2.06-.94 2.06-2.06.94z\"/><path d=\"M17.41 7.96l-1.37-1.37c-.4-.4-.92-.59-1.43-.59-.52 0-1.04.2-1.43.59L10.3 9.45l-7.72 7.72c-.78.78-.78 2.05 0 2.83L4 21.41c.39.39.9.59 1.41.59.51 0 1.02-.2 1.41-.59l7.78-7.78 2.81-2.81c.8-.78.8-2.07 0-2.86zM5.41 20L4 18.59l7.72-7.72 1.47 1.35L5.41 20z\"/>\n",
              "  </svg>\n",
              "      </button>\n",
              "      \n",
              "  <style>\n",
              "    .colab-df-container {\n",
              "      display:flex;\n",
              "      flex-wrap:wrap;\n",
              "      gap: 12px;\n",
              "    }\n",
              "\n",
              "    .colab-df-convert {\n",
              "      background-color: #E8F0FE;\n",
              "      border: none;\n",
              "      border-radius: 50%;\n",
              "      cursor: pointer;\n",
              "      display: none;\n",
              "      fill: #1967D2;\n",
              "      height: 32px;\n",
              "      padding: 0 0 0 0;\n",
              "      width: 32px;\n",
              "    }\n",
              "\n",
              "    .colab-df-convert:hover {\n",
              "      background-color: #E2EBFA;\n",
              "      box-shadow: 0px 1px 2px rgba(60, 64, 67, 0.3), 0px 1px 3px 1px rgba(60, 64, 67, 0.15);\n",
              "      fill: #174EA6;\n",
              "    }\n",
              "\n",
              "    [theme=dark] .colab-df-convert {\n",
              "      background-color: #3B4455;\n",
              "      fill: #D2E3FC;\n",
              "    }\n",
              "\n",
              "    [theme=dark] .colab-df-convert:hover {\n",
              "      background-color: #434B5C;\n",
              "      box-shadow: 0px 1px 3px 1px rgba(0, 0, 0, 0.15);\n",
              "      filter: drop-shadow(0px 1px 2px rgba(0, 0, 0, 0.3));\n",
              "      fill: #FFFFFF;\n",
              "    }\n",
              "  </style>\n",
              "\n",
              "      <script>\n",
              "        const buttonEl =\n",
              "          document.querySelector('#df-2cc34271-4683-4e0d-a0d8-75ffbc13774e button.colab-df-convert');\n",
              "        buttonEl.style.display =\n",
              "          google.colab.kernel.accessAllowed ? 'block' : 'none';\n",
              "\n",
              "        async function convertToInteractive(key) {\n",
              "          const element = document.querySelector('#df-2cc34271-4683-4e0d-a0d8-75ffbc13774e');\n",
              "          const dataTable =\n",
              "            await google.colab.kernel.invokeFunction('convertToInteractive',\n",
              "                                                     [key], {});\n",
              "          if (!dataTable) return;\n",
              "\n",
              "          const docLinkHtml = 'Like what you see? Visit the ' +\n",
              "            '<a target=\"_blank\" href=https://colab.research.google.com/notebooks/data_table.ipynb>data table notebook</a>'\n",
              "            + ' to learn more about interactive tables.';\n",
              "          element.innerHTML = '';\n",
              "          dataTable['output_type'] = 'display_data';\n",
              "          await google.colab.output.renderOutput(dataTable, element);\n",
              "          const docLink = document.createElement('div');\n",
              "          docLink.innerHTML = docLinkHtml;\n",
              "          element.appendChild(docLink);\n",
              "        }\n",
              "      </script>\n",
              "    </div>\n",
              "  </div>\n",
              "  "
            ]
          },
          "metadata": {}
        }
      ]
    },
    {
      "cell_type": "code",
      "source": [
        "# Convert labels to TF dataset\n",
        "\n",
        "# Create label ds\n",
        "labels_ds = tf.data.Dataset.from_tensor_slices(labels_subsample_df.drop(columns='image_filename'))   \n",
        "\n",
        "print(\"labels_ds shape: \", labels_ds)\n",
        "print(\"number of labels parsed: \", labels_ds.cardinality().numpy())   "
      ],
      "metadata": {
        "colab": {
          "base_uri": "https://localhost:8080/"
        },
        "id": "94kqg4xT1kV2",
        "outputId": "4ac5a419-388b-4304-8315-4775fa8b250f"
      },
      "id": "94kqg4xT1kV2",
      "execution_count": 86,
      "outputs": [
        {
          "output_type": "stream",
          "name": "stdout",
          "text": [
            "labels_ds shape:  <TensorSliceDataset element_spec=TensorSpec(shape=(9,), dtype=tf.int64, name=None)>\n",
            "number of labels parsed:  1100\n"
          ]
        }
      ]
    },
    {
      "cell_type": "markdown",
      "source": [
        "### Combine images and labels"
      ],
      "metadata": {
        "id": "jatOAfx11ax9"
      },
      "id": "jatOAfx11ax9"
    },
    {
      "cell_type": "code",
      "source": [
        "# Zip together the image and label data into one TF dataset\n",
        "\n",
        "complete_ds = tf.data.Dataset.zip((images_ds, labels_ds))\n",
        "complete_ds"
      ],
      "metadata": {
        "colab": {
          "base_uri": "https://localhost:8080/"
        },
        "id": "XLp6ptSb1ZDv",
        "outputId": "0274123f-61dc-41b1-b833-aca0959b4c90"
      },
      "id": "XLp6ptSb1ZDv",
      "execution_count": 87,
      "outputs": [
        {
          "output_type": "execute_result",
          "data": {
            "text/plain": [
              "<ZipDataset element_spec=(TensorSpec(shape=(256, 256, 3), dtype=tf.float32, name=None), TensorSpec(shape=(9,), dtype=tf.int64, name=None))>"
            ]
          },
          "metadata": {},
          "execution_count": 87
        }
      ]
    },
    {
      "cell_type": "code",
      "source": [
        "def transform(input_tensor, input_target):    \n",
        "\n",
        "    print(input_tensor.shape)\n",
        "    print(input_target.shape)\n",
        "    # Transform the target\n",
        "    target_0  = input_target[0]\n",
        "    target_1  = input_target[1]\n",
        "    target_2  = input_target[2]\n",
        "    target_3  = input_target[3]\n",
        "    target_4  = input_target[4]\n",
        "    target_5  = input_target[5]\n",
        "    target_6  = input_target[6]\n",
        "    target_7  = input_target[7]\n",
        "    target_8  = input_target[8]\n",
        "\n",
        "    return (input_tensor), (target_0, target_1, target_2, target_3, target_4, target_5, target_6, target_7, target_8)"
      ],
      "metadata": {
        "id": "LitcilI7I0XO"
      },
      "id": "LitcilI7I0XO",
      "execution_count": 88,
      "outputs": []
    },
    {
      "cell_type": "code",
      "source": [
        "complete_alt_ds = complete_ds.map(transform, num_parallel_calls=AUTOTUNE)\n",
        "complete_alt_ds = complete_alt_ds.prefetch(1)\n",
        "complete_alt_ds.element_spec[1]"
      ],
      "metadata": {
        "colab": {
          "base_uri": "https://localhost:8080/"
        },
        "id": "RhbnlHWmIhCf",
        "outputId": "89ffe160-22c8-4bbd-b5c1-a83910064b86"
      },
      "id": "RhbnlHWmIhCf",
      "execution_count": 89,
      "outputs": [
        {
          "output_type": "stream",
          "name": "stdout",
          "text": [
            "(256, 256, 3)\n",
            "(9,)\n"
          ]
        },
        {
          "output_type": "execute_result",
          "data": {
            "text/plain": [
              "(TensorSpec(shape=(), dtype=tf.int64, name=None),\n",
              " TensorSpec(shape=(), dtype=tf.int64, name=None),\n",
              " TensorSpec(shape=(), dtype=tf.int64, name=None),\n",
              " TensorSpec(shape=(), dtype=tf.int64, name=None),\n",
              " TensorSpec(shape=(), dtype=tf.int64, name=None),\n",
              " TensorSpec(shape=(), dtype=tf.int64, name=None),\n",
              " TensorSpec(shape=(), dtype=tf.int64, name=None),\n",
              " TensorSpec(shape=(), dtype=tf.int64, name=None),\n",
              " TensorSpec(shape=(), dtype=tf.int64, name=None))"
            ]
          },
          "metadata": {},
          "execution_count": 89
        }
      ]
    },
    {
      "cell_type": "markdown",
      "source": [
        "### Partition TF datasets into training and validation sets"
      ],
      "metadata": {
        "id": "PUQwOjidwG-6"
      },
      "id": "PUQwOjidwG-6"
    },
    {
      "cell_type": "code",
      "source": [
        "# Function to partition the TF datasets into Training and Validation sets\n",
        "\n",
        "def partition_tf_data(ds, ds_size, train_split=0.8, val_split=0.2, \n",
        "                      test_split=0, shuffle=True, shuffle_size=10000):\n",
        "  \n",
        "    # assert(train_split + test_split + val_split) == 1\n",
        "    assert(train_split + val_split) == 1\n",
        "    \n",
        "    if shuffle:\n",
        "        # Specify seed to always have the same split distribution between runs\n",
        "        ds = ds.shuffle(shuffle_size, seed=109)\n",
        "    \n",
        "    train_size = int(train_split * ds_size)\n",
        "    val_size = int(val_split * ds_size)\n",
        "    \n",
        "    train_ds = ds.take(train_size)    \n",
        "    val_ds = ds.skip(train_size).take(val_size)\n",
        "    # test_ds = ds.skip(train_size).skip(val_size)\n",
        "    \n",
        "    return train_ds, val_ds #, test_ds"
      ],
      "metadata": {
        "id": "_8DO3q_Xmsj0"
      },
      "id": "_8DO3q_Xmsj0",
      "execution_count": 90,
      "outputs": []
    },
    {
      "cell_type": "code",
      "source": [
        "# Partition the TF datasets\n",
        "\n",
        "DS_SIZE = images_ds.cardinality().numpy()\n",
        "\n",
        "train_ds, val_ds = partition_tf_data(ds=complete_ds, ds_size=DS_SIZE)\n",
        "\n",
        "print(\"Train shape: \", train_ds)\n",
        "print(\"Validation shape: \", val_ds)\n",
        "print(\"number of training images/labels: \", train_ds.cardinality().numpy())\n",
        "print(\"number of validation images/labels: \", val_ds.cardinality().numpy())"
      ],
      "metadata": {
        "colab": {
          "base_uri": "https://localhost:8080/"
        },
        "id": "1T9fqhKxh0tM",
        "outputId": "f49a5b96-293a-4223-8aa2-fe8ff10c00b4"
      },
      "id": "1T9fqhKxh0tM",
      "execution_count": 91,
      "outputs": [
        {
          "output_type": "stream",
          "name": "stdout",
          "text": [
            "Train shape:  <TakeDataset element_spec=(TensorSpec(shape=(256, 256, 3), dtype=tf.float32, name=None), TensorSpec(shape=(9,), dtype=tf.int64, name=None))>\n",
            "Validation shape:  <TakeDataset element_spec=(TensorSpec(shape=(256, 256, 3), dtype=tf.float32, name=None), TensorSpec(shape=(9,), dtype=tf.int64, name=None))>\n",
            "number of training images/labels:  880\n",
            "number of validation images/labels:  220\n"
          ]
        }
      ]
    },
    {
      "cell_type": "code",
      "source": [
        "# Partition the TF datasets\n",
        "\n",
        "DS_SIZE = images_ds.cardinality().numpy()\n",
        "\n",
        "train_alt_ds, val_alt_ds = partition_tf_data(ds=complete_alt_ds, ds_size=DS_SIZE)\n",
        "\n",
        "print(\"Train shape: \", train_alt_ds)\n",
        "print(\"Validation shape: \", val_alt_ds)\n",
        "print(\"number of training images/labels: \", train_alt_ds.cardinality().numpy())\n",
        "print(\"number of validation images/labels: \", val_alt_ds.cardinality().numpy())"
      ],
      "metadata": {
        "colab": {
          "base_uri": "https://localhost:8080/"
        },
        "id": "_Qp_HpR4mgdv",
        "outputId": "dc26d254-61c5-4093-b2fd-2be210971a64"
      },
      "id": "_Qp_HpR4mgdv",
      "execution_count": 92,
      "outputs": [
        {
          "output_type": "stream",
          "name": "stdout",
          "text": [
            "Train shape:  <TakeDataset element_spec=(TensorSpec(shape=(256, 256, 3), dtype=tf.float32, name=None), (TensorSpec(shape=(), dtype=tf.int64, name=None), TensorSpec(shape=(), dtype=tf.int64, name=None), TensorSpec(shape=(), dtype=tf.int64, name=None), TensorSpec(shape=(), dtype=tf.int64, name=None), TensorSpec(shape=(), dtype=tf.int64, name=None), TensorSpec(shape=(), dtype=tf.int64, name=None), TensorSpec(shape=(), dtype=tf.int64, name=None), TensorSpec(shape=(), dtype=tf.int64, name=None), TensorSpec(shape=(), dtype=tf.int64, name=None)))>\n",
            "Validation shape:  <TakeDataset element_spec=(TensorSpec(shape=(256, 256, 3), dtype=tf.float32, name=None), (TensorSpec(shape=(), dtype=tf.int64, name=None), TensorSpec(shape=(), dtype=tf.int64, name=None), TensorSpec(shape=(), dtype=tf.int64, name=None), TensorSpec(shape=(), dtype=tf.int64, name=None), TensorSpec(shape=(), dtype=tf.int64, name=None), TensorSpec(shape=(), dtype=tf.int64, name=None), TensorSpec(shape=(), dtype=tf.int64, name=None), TensorSpec(shape=(), dtype=tf.int64, name=None), TensorSpec(shape=(), dtype=tf.int64, name=None)))>\n",
            "number of training images/labels:  880\n",
            "number of validation images/labels:  220\n"
          ]
        }
      ]
    },
    {
      "cell_type": "markdown",
      "source": [
        "### Batching"
      ],
      "metadata": {
        "id": "ymeShx6UwUcr"
      },
      "id": "ymeShx6UwUcr"
    },
    {
      "cell_type": "code",
      "source": [
        "# Set up batches\n",
        "\n",
        "BATCH_SIZE_TRAIN = 32\n",
        "BATCH_SIZE_VAL = 32\n",
        "\n",
        "train_ds_batches = train_ds.shuffle(buffer_size=40000).batch(BATCH_SIZE_TRAIN).prefetch(buffer_size=AUTOTUNE)\n",
        "val_ds_batches = val_ds.batch(BATCH_SIZE_VAL).prefetch(buffer_size=AUTOTUNE)\n",
        "\n",
        "print(\"Train shape: \", train_ds_batches)\n",
        "print(\"Validation shape: \", val_ds_batches)"
      ],
      "metadata": {
        "colab": {
          "base_uri": "https://localhost:8080/"
        },
        "id": "-C4KRX8fiIDL",
        "outputId": "8e71476f-d269-4d05-f26a-2ee1161e927c"
      },
      "id": "-C4KRX8fiIDL",
      "execution_count": 93,
      "outputs": [
        {
          "output_type": "stream",
          "name": "stdout",
          "text": [
            "Train shape:  <PrefetchDataset element_spec=(TensorSpec(shape=(None, 256, 256, 3), dtype=tf.float32, name=None), TensorSpec(shape=(None, 9), dtype=tf.int64, name=None))>\n",
            "Validation shape:  <PrefetchDataset element_spec=(TensorSpec(shape=(None, 256, 256, 3), dtype=tf.float32, name=None), TensorSpec(shape=(None, 9), dtype=tf.int64, name=None))>\n"
          ]
        }
      ]
    },
    {
      "cell_type": "code",
      "source": [
        "# Set up batches\n",
        "\n",
        "BATCH_SIZE_TRAIN = 32\n",
        "BATCH_SIZE_VAL = 32\n",
        "\n",
        "train_alt_ds_batches = train_alt_ds.shuffle(buffer_size=40000).batch(BATCH_SIZE_TRAIN).prefetch(buffer_size=AUTOTUNE)\n",
        "val_alt_ds_batches = val_alt_ds.batch(BATCH_SIZE_VAL).prefetch(buffer_size=AUTOTUNE)\n",
        "\n",
        "print(\"Train shape: \", train_alt_ds_batches)\n",
        "print(\"Validation shape: \", val_alt_ds_batches)"
      ],
      "metadata": {
        "colab": {
          "base_uri": "https://localhost:8080/"
        },
        "id": "gC2FZ4ccqvhh",
        "outputId": "9613d875-6004-4b5a-a317-ef143c3bf1b2"
      },
      "id": "gC2FZ4ccqvhh",
      "execution_count": 94,
      "outputs": [
        {
          "output_type": "stream",
          "name": "stdout",
          "text": [
            "Train shape:  <PrefetchDataset element_spec=(TensorSpec(shape=(None, 256, 256, 3), dtype=tf.float32, name=None), (TensorSpec(shape=(None,), dtype=tf.int64, name=None), TensorSpec(shape=(None,), dtype=tf.int64, name=None), TensorSpec(shape=(None,), dtype=tf.int64, name=None), TensorSpec(shape=(None,), dtype=tf.int64, name=None), TensorSpec(shape=(None,), dtype=tf.int64, name=None), TensorSpec(shape=(None,), dtype=tf.int64, name=None), TensorSpec(shape=(None,), dtype=tf.int64, name=None), TensorSpec(shape=(None,), dtype=tf.int64, name=None), TensorSpec(shape=(None,), dtype=tf.int64, name=None)))>\n",
            "Validation shape:  <PrefetchDataset element_spec=(TensorSpec(shape=(None, 256, 256, 3), dtype=tf.float32, name=None), (TensorSpec(shape=(None,), dtype=tf.int64, name=None), TensorSpec(shape=(None,), dtype=tf.int64, name=None), TensorSpec(shape=(None,), dtype=tf.int64, name=None), TensorSpec(shape=(None,), dtype=tf.int64, name=None), TensorSpec(shape=(None,), dtype=tf.int64, name=None), TensorSpec(shape=(None,), dtype=tf.int64, name=None), TensorSpec(shape=(None,), dtype=tf.int64, name=None), TensorSpec(shape=(None,), dtype=tf.int64, name=None), TensorSpec(shape=(None,), dtype=tf.int64, name=None)))>\n"
          ]
        }
      ]
    },
    {
      "cell_type": "markdown",
      "source": [
        "### Preprocessing layers"
      ],
      "metadata": {
        "id": "yDj3pdV4wW8W"
      },
      "id": "yDj3pdV4wW8W"
    },
    {
      "cell_type": "code",
      "source": [
        "# Pre-processing layers\n",
        "\n",
        "# Rescale pixels\n",
        "rescale_layer = Sequential([layers.experimental.preprocessing.Rescaling(1./255)])\n",
        "\n",
        "# Data augmentation\n",
        "data_augmentation_layer = Sequential([\n",
        "  RandomFlip(\"horizontal_and_vertical\"),\n",
        "  RandomRotation(0.2), \n",
        "  RandomZoom(height_factor=(0.2, 0.3), width_factor=(0.2, 0.3)),\n",
        "  RandomTranslation(0.3, 0.3, fill_mode='reflect', interpolation='bilinear',)\n",
        "])"
      ],
      "metadata": {
        "id": "TEegVFPeqKYl"
      },
      "id": "TEegVFPeqKYl",
      "execution_count": 95,
      "outputs": []
    },
    {
      "cell_type": "markdown",
      "source": [
        "# Model Training\n"
      ],
      "metadata": {
        "id": "gqCxFvbTwZxy"
      },
      "id": "gqCxFvbTwZxy"
    },
    {
      "cell_type": "markdown",
      "source": [
        "### Callbacks"
      ],
      "metadata": {
        "id": "-mNiZYErwdXr"
      },
      "id": "-mNiZYErwdXr"
    },
    {
      "cell_type": "code",
      "execution_count": 96,
      "id": "1a899f21-f11a-4360-ac6d-137556c283c5",
      "metadata": {
        "id": "1a899f21-f11a-4360-ac6d-137556c283c5"
      },
      "outputs": [],
      "source": [
        "# Callbacks\n",
        "\n",
        "# Early stopping\n",
        "early_stop = EarlyStopping(\n",
        "    monitor='val_loss',\n",
        "    mode='min', \n",
        "    min_delta=0.1, \n",
        "    patience=10, \n",
        "    restore_best_weights=True, \n",
        "    verbose=True)\n",
        "\n",
        "# Reduce learning rate by factor of 0.5 if val_coef_determination does not improve within 3 epochs\n",
        "reduce_lrt_plateau = ReduceLROnPlateau(\n",
        "    monitor='val_loss', \n",
        "    mode='min',\n",
        "    min_delta=0.2,\n",
        "    factor=0.5,\n",
        "    patience=3, \n",
        "    min_lr=1e-6,\n",
        "    verbose=2)\n",
        "\n",
        "# This function keeps the initial learning rate for the first 7 epochs and decreases it exponentially after that\n",
        "def scheduler(epoch, lr):\n",
        "    if epoch <= 7:\n",
        "        return lr\n",
        "    else:\n",
        "        return lr * tf.math.exp(-0.1)\n",
        "\n",
        "lrt_scheduler = LearningRateScheduler(scheduler)"
      ]
    },
    {
      "cell_type": "markdown",
      "source": [
        "### Model architecture"
      ],
      "metadata": {
        "id": "hPwMV4lFC3_Y"
      },
      "id": "hPwMV4lFC3_Y"
    },
    {
      "cell_type": "markdown",
      "source": [
        "Which model to use for transfer learning?\n",
        "\n",
        "- ResNet (50, 18)\n",
        "- VGG (16, 19)\n",
        "- EfficientNet (B0, B1, B2, B3, B4, B5, B6, B7)"
      ],
      "metadata": {
        "id": "JzmrFeGZDJa-"
      },
      "id": "JzmrFeGZDJa-"
    },
    {
      "cell_type": "code",
      "source": [
        "# Define alternative model architecture for element-wise sigmoid\n",
        "\n",
        "IMG_SIZE = 256\n",
        "\n",
        "def create_alternative_model(transfer_model='ResNet50'):\n",
        "\n",
        "  # Transfer models\n",
        "  if transfer_model=='ResNet50':\n",
        "      transfer_layer = ResNet50(include_top=False, weights='imagenet', \n",
        "                                input_shape=(IMG_SIZE, IMG_SIZE, 3))\n",
        "  elif transfer_model=='EfficientNetB2':\n",
        "      transfer_layer = EfficientNetB2(include_top=False, weights=\"imagenet\",\n",
        "                                      input_shape=(IMG_SIZE, IMG_SIZE, 3))\n",
        "  elif transfer_model=='VGG16':\n",
        "      transfer_layer = VGG16(include_top=False, weights=\"imagenet\",\n",
        "                             input_shape=(IMG_SIZE, IMG_SIZE, 3))\n",
        "  elif transfer_model=='VGG19':\n",
        "      transfer_layer = VGG19(include_top=False, weights=\"imagenet\",\n",
        "                             input_shape=(IMG_SIZE, IMG_SIZE, 3))\n",
        "      \n",
        "  # Inputs, Preprocessing, and Transfer layers\n",
        "  inputs = Input(shape=(IMG_SIZE, IMG_SIZE, 3))\n",
        "  rescale = rescale_layer(inputs)\n",
        "  augmented = data_augmentation_layer(rescale)\n",
        "  transfer = transfer_layer(augmented)\n",
        "  # TRY STUFF HERE\n",
        "\n",
        "  # Pool for dense output\n",
        "  pooling = GlobalAveragePooling2D()(transfer)\n",
        "  dropout = Dropout(0.4)(pooling)\n",
        "  # TRY STUFF HERE\n",
        "  \n",
        "  # Output layer\n",
        "  out_1 = Dense(units=1, activation='sigmoid')(dropout)\n",
        "  out_2 = Dense(units=1, activation='sigmoid')(dropout)\n",
        "  out_3 = Dense(units=1, activation='sigmoid')(dropout)\n",
        "  out_4 = Dense(units=1, activation='sigmoid')(dropout)\n",
        "  out_5 = Dense(units=1, activation='sigmoid')(dropout)\n",
        "  out_6 = Dense(units=1, activation='sigmoid')(dropout)\n",
        "  out_7 = Dense(units=1, activation='sigmoid')(dropout)\n",
        "  out_8 = Dense(units=1, activation='sigmoid')(dropout)\n",
        "  out_9 = Dense(units=1, activation='sigmoid')(dropout)\n",
        "\n",
        "  model = Model(inputs=inputs, outputs=[out_1, out_2, out_3, out_4, out_5, out_6, out_7, out_8, out_9])\n",
        "\n",
        "  return model\n",
        "\n",
        "clear_session()\n",
        "base_alt_model = create_alternative_model(transfer_model='VGG19')\n",
        "base_alt_model.summary()"
      ],
      "metadata": {
        "colab": {
          "base_uri": "https://localhost:8080/"
        },
        "id": "7U8e5Eri14Um",
        "outputId": "bd339f43-cf21-4112-9d93-9a3cd28725b0"
      },
      "id": "7U8e5Eri14Um",
      "execution_count": 97,
      "outputs": [
        {
          "output_type": "stream",
          "name": "stdout",
          "text": [
            "Model: \"model\"\n",
            "__________________________________________________________________________________________________\n",
            " Layer (type)                   Output Shape         Param #     Connected to                     \n",
            "==================================================================================================\n",
            " input_2 (InputLayer)           [(None, 256, 256, 3  0           []                               \n",
            "                                )]                                                                \n",
            "                                                                                                  \n",
            " sequential (Sequential)        (None, 256, 256, 3)  0           ['input_2[0][0]']                \n",
            "                                                                                                  \n",
            " sequential_1 (Sequential)      (None, 256, 256, 3)  0           ['sequential[0][0]']             \n",
            "                                                                                                  \n",
            " vgg19 (Functional)             (None, 8, 8, 512)    20024384    ['sequential_1[0][0]']           \n",
            "                                                                                                  \n",
            " global_average_pooling2d (Glob  (None, 512)         0           ['vgg19[0][0]']                  \n",
            " alAveragePooling2D)                                                                              \n",
            "                                                                                                  \n",
            " dropout (Dropout)              (None, 512)          0           ['global_average_pooling2d[0][0]'\n",
            "                                                                 ]                                \n",
            "                                                                                                  \n",
            " dense (Dense)                  (None, 1)            513         ['dropout[0][0]']                \n",
            "                                                                                                  \n",
            " dense_1 (Dense)                (None, 1)            513         ['dropout[0][0]']                \n",
            "                                                                                                  \n",
            " dense_2 (Dense)                (None, 1)            513         ['dropout[0][0]']                \n",
            "                                                                                                  \n",
            " dense_3 (Dense)                (None, 1)            513         ['dropout[0][0]']                \n",
            "                                                                                                  \n",
            " dense_4 (Dense)                (None, 1)            513         ['dropout[0][0]']                \n",
            "                                                                                                  \n",
            " dense_5 (Dense)                (None, 1)            513         ['dropout[0][0]']                \n",
            "                                                                                                  \n",
            " dense_6 (Dense)                (None, 1)            513         ['dropout[0][0]']                \n",
            "                                                                                                  \n",
            " dense_7 (Dense)                (None, 1)            513         ['dropout[0][0]']                \n",
            "                                                                                                  \n",
            " dense_8 (Dense)                (None, 1)            513         ['dropout[0][0]']                \n",
            "                                                                                                  \n",
            "==================================================================================================\n",
            "Total params: 20,029,001\n",
            "Trainable params: 20,029,001\n",
            "Non-trainable params: 0\n",
            "__________________________________________________________________________________________________\n"
          ]
        }
      ]
    },
    {
      "cell_type": "markdown",
      "source": [
        "### Compile"
      ],
      "metadata": {
        "id": "1oL2vNDgw_fW"
      },
      "id": "1oL2vNDgw_fW"
    },
    {
      "cell_type": "code",
      "source": [
        "# Compile\n",
        "\n",
        "# Optimizers\n",
        "opt = Nadam(learning_rate=0.001, beta_1=0.9, beta_2=0.999)\n",
        "\n",
        "# Compile model\n",
        "base_alt_model.compile(\n",
        "    optimizer=opt, \n",
        "    loss='binary_crossentropy', \n",
        "    metrics=['AUC'])"
      ],
      "metadata": {
        "id": "k0z_mzlB-3vn"
      },
      "id": "k0z_mzlB-3vn",
      "execution_count": 98,
      "outputs": []
    },
    {
      "cell_type": "markdown",
      "source": [
        "### Train"
      ],
      "metadata": {
        "id": "9FE6A7XzxB9a"
      },
      "id": "9FE6A7XzxB9a"
    },
    {
      "cell_type": "code",
      "source": [
        "# Train the model\n",
        "\n",
        "# Parameters\n",
        "EPOCHS = 50 \n",
        "\n",
        "# Training\n",
        "alt_history = base_alt_model.fit(\n",
        "    x=train_alt_ds_batches,  \n",
        "    validation_data=val_alt_ds_batches,\n",
        "    epochs=EPOCHS,  \n",
        "    verbose=1,\n",
        "    use_multiprocessing=True, \n",
        "    callbacks=[early_stop, reduce_lrt_plateau, lrt_scheduler]\n",
        "    )\n",
        "\n",
        "%time"
      ],
      "metadata": {
        "colab": {
          "base_uri": "https://localhost:8080/"
        },
        "id": "CG6cNT57_tLv",
        "outputId": "13a9855b-6532-4230-81c1-1d339c6541e0"
      },
      "id": "CG6cNT57_tLv",
      "execution_count": 99,
      "outputs": [
        {
          "output_type": "stream",
          "name": "stdout",
          "text": [
            "Epoch 1/50\n",
            "28/28 [==============================] - 34s 824ms/step - loss: 62.3883 - dense_loss: 9.4224 - dense_1_loss: 8.6915 - dense_2_loss: 9.3228 - dense_3_loss: 8.4721 - dense_4_loss: 6.4210 - dense_5_loss: 2.6701 - dense_6_loss: 1.8542 - dense_7_loss: 10.7346 - dense_8_loss: 4.7998 - dense_auc: 0.4708 - dense_1_auc_1: 0.5456 - dense_2_auc_2: 0.4789 - dense_3_auc_3: 0.4810 - dense_4_auc_4: 0.4733 - dense_5_auc_5: 0.5043 - dense_6_auc_6: 0.5046 - dense_7_auc_7: 0.4689 - dense_8_auc_8: 0.4968 - val_loss: 4.3464 - val_dense_loss: 0.4535 - val_dense_1_loss: 0.3453 - val_dense_2_loss: 0.5938 - val_dense_3_loss: 0.4278 - val_dense_4_loss: 0.5581 - val_dense_5_loss: 0.3672 - val_dense_6_loss: 0.5067 - val_dense_7_loss: 0.5884 - val_dense_8_loss: 0.5057 - val_dense_auc: 0.5000 - val_dense_1_auc_1: 0.5000 - val_dense_2_auc_2: 0.4968 - val_dense_3_auc_3: 0.5000 - val_dense_4_auc_4: 0.5000 - val_dense_5_auc_5: 0.5000 - val_dense_6_auc_6: 0.4876 - val_dense_7_auc_7: 0.5000 - val_dense_8_auc_8: 0.5000 - lr: 0.0010\n",
            "Epoch 2/50\n",
            "28/28 [==============================] - 24s 766ms/step - loss: 4.5030 - dense_loss: 0.4417 - dense_1_loss: 0.4062 - dense_2_loss: 0.6343 - dense_3_loss: 0.4134 - dense_4_loss: 0.6275 - dense_5_loss: 0.3865 - dense_6_loss: 0.5035 - dense_7_loss: 0.6058 - dense_8_loss: 0.4840 - dense_auc: 0.5261 - dense_1_auc_1: 0.5051 - dense_2_auc_2: 0.4647 - dense_3_auc_3: 0.5305 - dense_4_auc_4: 0.4792 - dense_5_auc_5: 0.5204 - dense_6_auc_6: 0.4978 - dense_7_auc_7: 0.5126 - dense_8_auc_8: 0.4768 - val_loss: 4.4803 - val_dense_loss: 0.5156 - val_dense_1_loss: 0.4147 - val_dense_2_loss: 0.6083 - val_dense_3_loss: 0.4462 - val_dense_4_loss: 0.6444 - val_dense_5_loss: 0.3071 - val_dense_6_loss: 0.4768 - val_dense_7_loss: 0.6293 - val_dense_8_loss: 0.4380 - val_dense_auc: 0.5051 - val_dense_1_auc_1: 0.5416 - val_dense_2_auc_2: 0.5221 - val_dense_3_auc_3: 0.4482 - val_dense_4_auc_4: 0.5094 - val_dense_5_auc_5: 0.4659 - val_dense_6_auc_6: 0.4517 - val_dense_7_auc_7: 0.4863 - val_dense_8_auc_8: 0.5129 - lr: 0.0010\n",
            "Epoch 3/50\n",
            "28/28 [==============================] - 24s 767ms/step - loss: 4.5036 - dense_loss: 0.4287 - dense_1_loss: 0.3938 - dense_2_loss: 0.6163 - dense_3_loss: 0.4546 - dense_4_loss: 0.6096 - dense_5_loss: 0.3604 - dense_6_loss: 0.5377 - dense_7_loss: 0.6099 - dense_8_loss: 0.4925 - dense_auc: 0.5327 - dense_1_auc_1: 0.4961 - dense_2_auc_2: 0.4746 - dense_3_auc_3: 0.4703 - dense_4_auc_4: 0.5174 - dense_5_auc_5: 0.4604 - dense_6_auc_6: 0.4755 - dense_7_auc_7: 0.4974 - dense_8_auc_8: 0.4816 - val_loss: 4.3681 - val_dense_loss: 0.4312 - val_dense_1_loss: 0.3813 - val_dense_2_loss: 0.5416 - val_dense_3_loss: 0.4505 - val_dense_4_loss: 0.5651 - val_dense_5_loss: 0.4707 - val_dense_6_loss: 0.5267 - val_dense_7_loss: 0.5942 - val_dense_8_loss: 0.4067 - val_dense_auc: 0.6072 - val_dense_1_auc_1: 0.5000 - val_dense_2_auc_2: 0.5000 - val_dense_3_auc_3: 0.5000 - val_dense_4_auc_4: 0.5000 - val_dense_5_auc_5: 0.5000 - val_dense_6_auc_6: 0.5000 - val_dense_7_auc_7: 0.5000 - val_dense_8_auc_8: 0.5000 - lr: 0.0010\n",
            "Epoch 4/50\n",
            "28/28 [==============================] - ETA: 0s - loss: 4.4390 - dense_loss: 0.4270 - dense_1_loss: 0.4069 - dense_2_loss: 0.6065 - dense_3_loss: 0.4239 - dense_4_loss: 0.6115 - dense_5_loss: 0.3795 - dense_6_loss: 0.5350 - dense_7_loss: 0.5939 - dense_8_loss: 0.4548 - dense_auc: 0.5128 - dense_1_auc_1: 0.4400 - dense_2_auc_2: 0.4958 - dense_3_auc_3: 0.5152 - dense_4_auc_4: 0.4759 - dense_5_auc_5: 0.4818 - dense_6_auc_6: 0.4644 - dense_7_auc_7: 0.5175 - dense_8_auc_8: 0.4959\n",
            "Epoch 4: ReduceLROnPlateau reducing learning rate to 0.0005000000237487257.\n",
            "28/28 [==============================] - 24s 771ms/step - loss: 4.4390 - dense_loss: 0.4270 - dense_1_loss: 0.4069 - dense_2_loss: 0.6065 - dense_3_loss: 0.4239 - dense_4_loss: 0.6115 - dense_5_loss: 0.3795 - dense_6_loss: 0.5350 - dense_7_loss: 0.5939 - dense_8_loss: 0.4548 - dense_auc: 0.5128 - dense_1_auc_1: 0.4400 - dense_2_auc_2: 0.4958 - dense_3_auc_3: 0.5152 - dense_4_auc_4: 0.4759 - dense_5_auc_5: 0.4818 - dense_6_auc_6: 0.4644 - dense_7_auc_7: 0.5175 - dense_8_auc_8: 0.4959 - val_loss: 4.3217 - val_dense_loss: 0.3612 - val_dense_1_loss: 0.4079 - val_dense_2_loss: 0.6191 - val_dense_3_loss: 0.4532 - val_dense_4_loss: 0.6183 - val_dense_5_loss: 0.3762 - val_dense_6_loss: 0.4957 - val_dense_7_loss: 0.5908 - val_dense_8_loss: 0.3992 - val_dense_auc: 0.5000 - val_dense_1_auc_1: 0.5000 - val_dense_2_auc_2: 0.5211 - val_dense_3_auc_3: 0.5170 - val_dense_4_auc_4: 0.5033 - val_dense_5_auc_5: 0.5000 - val_dense_6_auc_6: 0.5000 - val_dense_7_auc_7: 0.5000 - val_dense_8_auc_8: 0.4833 - lr: 5.0000e-04\n",
            "Epoch 5/50\n",
            "28/28 [==============================] - 24s 773ms/step - loss: 4.3815 - dense_loss: 0.4266 - dense_1_loss: 0.3845 - dense_2_loss: 0.6053 - dense_3_loss: 0.4389 - dense_4_loss: 0.6007 - dense_5_loss: 0.3476 - dense_6_loss: 0.5143 - dense_7_loss: 0.5910 - dense_8_loss: 0.4726 - dense_auc: 0.4819 - dense_1_auc_1: 0.5064 - dense_2_auc_2: 0.5234 - dense_3_auc_3: 0.5228 - dense_4_auc_4: 0.4858 - dense_5_auc_5: 0.4835 - dense_6_auc_6: 0.5190 - dense_7_auc_7: 0.5054 - dense_8_auc_8: 0.4879 - val_loss: 4.3050 - val_dense_loss: 0.3723 - val_dense_1_loss: 0.4076 - val_dense_2_loss: 0.5774 - val_dense_3_loss: 0.4764 - val_dense_4_loss: 0.5431 - val_dense_5_loss: 0.3826 - val_dense_6_loss: 0.5199 - val_dense_7_loss: 0.6268 - val_dense_8_loss: 0.3989 - val_dense_auc: 0.5699 - val_dense_1_auc_1: 0.5000 - val_dense_2_auc_2: 0.5000 - val_dense_3_auc_3: 0.5000 - val_dense_4_auc_4: 0.5000 - val_dense_5_auc_5: 0.5000 - val_dense_6_auc_6: 0.5000 - val_dense_7_auc_7: 0.5333 - val_dense_8_auc_8: 0.5000 - lr: 5.0000e-04\n",
            "Epoch 6/50\n",
            "28/28 [==============================] - 24s 772ms/step - loss: 4.3877 - dense_loss: 0.4214 - dense_1_loss: 0.3886 - dense_2_loss: 0.6009 - dense_3_loss: 0.4249 - dense_4_loss: 0.6002 - dense_5_loss: 0.3806 - dense_6_loss: 0.4967 - dense_7_loss: 0.6013 - dense_8_loss: 0.4731 - dense_auc: 0.5537 - dense_1_auc_1: 0.4680 - dense_2_auc_2: 0.5040 - dense_3_auc_3: 0.5234 - dense_4_auc_4: 0.4943 - dense_5_auc_5: 0.5217 - dense_6_auc_6: 0.5217 - dense_7_auc_7: 0.4700 - dense_8_auc_8: 0.4617 - val_loss: 4.2889 - val_dense_loss: 0.3919 - val_dense_1_loss: 0.3835 - val_dense_2_loss: 0.6236 - val_dense_3_loss: 0.4076 - val_dense_4_loss: 0.5683 - val_dense_5_loss: 0.3227 - val_dense_6_loss: 0.5294 - val_dense_7_loss: 0.5947 - val_dense_8_loss: 0.4672 - val_dense_auc: 0.5172 - val_dense_1_auc_1: 0.5000 - val_dense_2_auc_2: 0.5000 - val_dense_3_auc_3: 0.5000 - val_dense_4_auc_4: 0.5000 - val_dense_5_auc_5: 0.5000 - val_dense_6_auc_6: 0.5000 - val_dense_7_auc_7: 0.5000 - val_dense_8_auc_8: 0.5000 - lr: 5.0000e-04\n",
            "Epoch 7/50\n",
            "28/28 [==============================] - ETA: 0s - loss: 4.4278 - dense_loss: 0.4350 - dense_1_loss: 0.3896 - dense_2_loss: 0.6085 - dense_3_loss: 0.4248 - dense_4_loss: 0.6129 - dense_5_loss: 0.3885 - dense_6_loss: 0.5080 - dense_7_loss: 0.6075 - dense_8_loss: 0.4530 - dense_auc: 0.4733 - dense_1_auc_1: 0.5478 - dense_2_auc_2: 0.4817 - dense_3_auc_3: 0.5282 - dense_4_auc_4: 0.4822 - dense_5_auc_5: 0.5252 - dense_6_auc_6: 0.4801 - dense_7_auc_7: 0.4811 - dense_8_auc_8: 0.5386\n",
            "Epoch 7: ReduceLROnPlateau reducing learning rate to 0.0002500000118743628.\n",
            "28/28 [==============================] - 24s 778ms/step - loss: 4.4278 - dense_loss: 0.4350 - dense_1_loss: 0.3896 - dense_2_loss: 0.6085 - dense_3_loss: 0.4248 - dense_4_loss: 0.6129 - dense_5_loss: 0.3885 - dense_6_loss: 0.5080 - dense_7_loss: 0.6075 - dense_8_loss: 0.4530 - dense_auc: 0.4733 - dense_1_auc_1: 0.5478 - dense_2_auc_2: 0.4817 - dense_3_auc_3: 0.5282 - dense_4_auc_4: 0.4822 - dense_5_auc_5: 0.5252 - dense_6_auc_6: 0.4801 - dense_7_auc_7: 0.4811 - dense_8_auc_8: 0.5386 - val_loss: 4.3812 - val_dense_loss: 0.4311 - val_dense_1_loss: 0.3814 - val_dense_2_loss: 0.5990 - val_dense_3_loss: 0.3919 - val_dense_4_loss: 0.5948 - val_dense_5_loss: 0.3831 - val_dense_6_loss: 0.5036 - val_dense_7_loss: 0.5991 - val_dense_8_loss: 0.4973 - val_dense_auc: 0.5000 - val_dense_1_auc_1: 0.5179 - val_dense_2_auc_2: 0.5000 - val_dense_3_auc_3: 0.5123 - val_dense_4_auc_4: 0.5000 - val_dense_5_auc_5: 0.5000 - val_dense_6_auc_6: 0.5000 - val_dense_7_auc_7: 0.4828 - val_dense_8_auc_8: 0.5000 - lr: 2.5000e-04\n",
            "Epoch 8/50\n",
            "28/28 [==============================] - 24s 777ms/step - loss: 4.3884 - dense_loss: 0.4261 - dense_1_loss: 0.3820 - dense_2_loss: 0.5952 - dense_3_loss: 0.4283 - dense_4_loss: 0.6162 - dense_5_loss: 0.3722 - dense_6_loss: 0.5244 - dense_7_loss: 0.5960 - dense_8_loss: 0.4480 - dense_auc: 0.5088 - dense_1_auc_1: 0.4851 - dense_2_auc_2: 0.5182 - dense_3_auc_3: 0.5066 - dense_4_auc_4: 0.4806 - dense_5_auc_5: 0.5055 - dense_6_auc_6: 0.5030 - dense_7_auc_7: 0.4702 - dense_8_auc_8: 0.4650 - val_loss: 4.3284 - val_dense_loss: 0.3858 - val_dense_1_loss: 0.3548 - val_dense_2_loss: 0.5992 - val_dense_3_loss: 0.4854 - val_dense_4_loss: 0.6033 - val_dense_5_loss: 0.3914 - val_dense_6_loss: 0.4884 - val_dense_7_loss: 0.5525 - val_dense_8_loss: 0.4677 - val_dense_auc: 0.5000 - val_dense_1_auc_1: 0.5000 - val_dense_2_auc_2: 0.5000 - val_dense_3_auc_3: 0.4865 - val_dense_4_auc_4: 0.5000 - val_dense_5_auc_5: 0.5000 - val_dense_6_auc_6: 0.5000 - val_dense_7_auc_7: 0.5000 - val_dense_8_auc_8: 0.5351 - lr: 2.5000e-04\n",
            "Epoch 9/50\n",
            "28/28 [==============================] - 25s 779ms/step - loss: 4.3652 - dense_loss: 0.4593 - dense_1_loss: 0.3765 - dense_2_loss: 0.5954 - dense_3_loss: 0.4403 - dense_4_loss: 0.5970 - dense_5_loss: 0.3338 - dense_6_loss: 0.5080 - dense_7_loss: 0.5928 - dense_8_loss: 0.4621 - dense_auc: 0.5103 - dense_1_auc_1: 0.5174 - dense_2_auc_2: 0.5027 - dense_3_auc_3: 0.4894 - dense_4_auc_4: 0.5140 - dense_5_auc_5: 0.4955 - dense_6_auc_6: 0.5166 - dense_7_auc_7: 0.4669 - dense_8_auc_8: 0.5037 - val_loss: 4.3871 - val_dense_loss: 0.4740 - val_dense_1_loss: 0.3986 - val_dense_2_loss: 0.6073 - val_dense_3_loss: 0.4603 - val_dense_4_loss: 0.5989 - val_dense_5_loss: 0.3358 - val_dense_6_loss: 0.5304 - val_dense_7_loss: 0.5596 - val_dense_8_loss: 0.4223 - val_dense_auc: 0.5972 - val_dense_1_auc_1: 0.5000 - val_dense_2_auc_2: 0.5000 - val_dense_3_auc_3: 0.5000 - val_dense_4_auc_4: 0.5000 - val_dense_5_auc_5: 0.5000 - val_dense_6_auc_6: 0.4729 - val_dense_7_auc_7: 0.5263 - val_dense_8_auc_8: 0.5000 - lr: 2.2621e-04\n",
            "Epoch 10/50\n",
            "28/28 [==============================] - ETA: 0s - loss: 4.3704 - dense_loss: 0.4186 - dense_1_loss: 0.3825 - dense_2_loss: 0.6025 - dense_3_loss: 0.4345 - dense_4_loss: 0.5877 - dense_5_loss: 0.3666 - dense_6_loss: 0.5209 - dense_7_loss: 0.5951 - dense_8_loss: 0.4620 - dense_auc: 0.5300 - dense_1_auc_1: 0.4904 - dense_2_auc_2: 0.5463 - dense_3_auc_3: 0.5098 - dense_4_auc_4: 0.5266 - dense_5_auc_5: 0.5180 - dense_6_auc_6: 0.5040 - dense_7_auc_7: 0.5084 - dense_8_auc_8: 0.5006\n",
            "Epoch 10: ReduceLROnPlateau reducing learning rate to 0.00010234133515041322.\n",
            "28/28 [==============================] - 25s 781ms/step - loss: 4.3704 - dense_loss: 0.4186 - dense_1_loss: 0.3825 - dense_2_loss: 0.6025 - dense_3_loss: 0.4345 - dense_4_loss: 0.5877 - dense_5_loss: 0.3666 - dense_6_loss: 0.5209 - dense_7_loss: 0.5951 - dense_8_loss: 0.4620 - dense_auc: 0.5300 - dense_1_auc_1: 0.4904 - dense_2_auc_2: 0.5463 - dense_3_auc_3: 0.5098 - dense_4_auc_4: 0.5266 - dense_5_auc_5: 0.5180 - dense_6_auc_6: 0.5040 - dense_7_auc_7: 0.5084 - dense_8_auc_8: 0.5006 - val_loss: 4.2859 - val_dense_loss: 0.3903 - val_dense_1_loss: 0.3278 - val_dense_2_loss: 0.6286 - val_dense_3_loss: 0.4305 - val_dense_4_loss: 0.6420 - val_dense_5_loss: 0.2883 - val_dense_6_loss: 0.5638 - val_dense_7_loss: 0.5766 - val_dense_8_loss: 0.4381 - val_dense_auc: 0.5000 - val_dense_1_auc_1: 0.5000 - val_dense_2_auc_2: 0.4962 - val_dense_3_auc_3: 0.4973 - val_dense_4_auc_4: 0.5000 - val_dense_5_auc_5: 0.5000 - val_dense_6_auc_6: 0.5000 - val_dense_7_auc_7: 0.5086 - val_dense_8_auc_8: 0.5000 - lr: 1.0234e-04\n",
            "Epoch 11/50\n",
            "28/28 [==============================] - ETA: 0s - loss: 4.4035 - dense_loss: 0.4450 - dense_1_loss: 0.3961 - dense_2_loss: 0.6057 - dense_3_loss: 0.4401 - dense_4_loss: 0.5985 - dense_5_loss: 0.3728 - dense_6_loss: 0.4921 - dense_7_loss: 0.6046 - dense_8_loss: 0.4487 - dense_auc: 0.4910 - dense_1_auc_1: 0.4297 - dense_2_auc_2: 0.4824 - dense_3_auc_3: 0.5090 - dense_4_auc_4: 0.4818 - dense_5_auc_5: 0.4897 - dense_6_auc_6: 0.5399 - dense_7_auc_7: 0.5259 - dense_8_auc_8: 0.5279Restoring model weights from the end of the best epoch: 1.\n",
            "28/28 [==============================] - 25s 785ms/step - loss: 4.4035 - dense_loss: 0.4450 - dense_1_loss: 0.3961 - dense_2_loss: 0.6057 - dense_3_loss: 0.4401 - dense_4_loss: 0.5985 - dense_5_loss: 0.3728 - dense_6_loss: 0.4921 - dense_7_loss: 0.6046 - dense_8_loss: 0.4487 - dense_auc: 0.4910 - dense_1_auc_1: 0.4297 - dense_2_auc_2: 0.4824 - dense_3_auc_3: 0.5090 - dense_4_auc_4: 0.4818 - dense_5_auc_5: 0.4897 - dense_6_auc_6: 0.5399 - dense_7_auc_7: 0.5259 - dense_8_auc_8: 0.5279 - val_loss: 4.3566 - val_dense_loss: 0.4460 - val_dense_1_loss: 0.3376 - val_dense_2_loss: 0.5467 - val_dense_3_loss: 0.4305 - val_dense_4_loss: 0.6119 - val_dense_5_loss: 0.4096 - val_dense_6_loss: 0.5130 - val_dense_7_loss: 0.5861 - val_dense_8_loss: 0.4753 - val_dense_auc: 0.5000 - val_dense_1_auc_1: 0.5000 - val_dense_2_auc_2: 0.5451 - val_dense_3_auc_3: 0.5663 - val_dense_4_auc_4: 0.5000 - val_dense_5_auc_5: 0.4968 - val_dense_6_auc_6: 0.4531 - val_dense_7_auc_7: 0.4979 - val_dense_8_auc_8: 0.5000 - lr: 9.2602e-05\n",
            "Epoch 11: early stopping\n",
            "CPU times: user 4 µs, sys: 0 ns, total: 4 µs\n",
            "Wall time: 13.8 µs\n"
          ]
        }
      ]
    },
    {
      "cell_type": "markdown",
      "source": [
        "### Save / Load model"
      ],
      "metadata": {
        "id": "uUfmee62xFSr"
      },
      "id": "uUfmee62xFSr"
    },
    {
      "cell_type": "code",
      "execution_count": 100,
      "id": "fb9ddd50-c5b8-4a28-b562-c03f4bea9a22",
      "metadata": {
        "colab": {
          "base_uri": "https://localhost:8080/"
        },
        "id": "fb9ddd50-c5b8-4a28-b562-c03f4bea9a22",
        "outputId": "dad50111-fdbf-452e-9597-cd4d0d08c672"
      },
      "outputs": [
        {
          "output_type": "stream",
          "name": "stdout",
          "text": [
            "INFO:tensorflow:Assets written to: /content/drive/My Drive/cs109b_final_project/output/base_alt_model/assets\n"
          ]
        }
      ],
      "source": [
        "# Save model\n",
        "base_alt_model.save(base_path + 'output/base_alt_model')"
      ]
    },
    {
      "cell_type": "markdown",
      "source": [
        "# Model Evaluation"
      ],
      "metadata": {
        "id": "fpaswuaRzQr-"
      },
      "id": "fpaswuaRzQr-"
    },
    {
      "cell_type": "markdown",
      "source": [
        "### Plot history"
      ],
      "metadata": {
        "id": "19cH0u3yxItM"
      },
      "id": "19cH0u3yxItM"
    },
    {
      "cell_type": "code",
      "execution_count": 49,
      "id": "12287e22-fabb-4fe7-b30b-023ce4823d6a",
      "metadata": {
        "id": "12287e22-fabb-4fe7-b30b-023ce4823d6a"
      },
      "outputs": [],
      "source": [
        "from tensorflow.python.ops.gen_logging_ops import histogram_summary\n",
        "def plot_history(model, title:str=''):\n",
        "    \"\"\"Create plots for the training history\"\"\"\n",
        "    \n",
        "    h = model.history.history\n",
        "    y1 = h['auc']\n",
        "    y2 = h['val_auc']\n",
        "    y3 = h['loss']\n",
        "    y4 = h['val_loss']\n",
        "\n",
        "    fig, (ax1, ax2) = plt.subplots(1, 2, figsize=(20,7))\n",
        "\n",
        "    x = model.history.epoch\n",
        "    ax1.plot(x, y1, label='train', linewidth=2)\n",
        "    ax1.plot(x, y2, label='validation', linewidth=2)\n",
        "    ax1.set_title('AUC-ROC', fontsize=20)\n",
        "    ax1.set_xlabel('Epochs')\n",
        "    ax1.set_ylabel('AUC-ROC')\n",
        "    best_auc = np.nanmax(y2)\n",
        "    ax1.axvline(np.nanargmax(y2),\n",
        "                ls='--', label=f'best val auc = {best_auc:.2f}')\n",
        "    ax1.grid(True)\n",
        "    ax1.legend()\n",
        "\n",
        "    ax2.plot(x, y3, label='train', linewidth=2)\n",
        "    ax2.plot(x, y4, label='validation', linewidth=2)\n",
        "    ax2.set_title('Loss', fontsize=20)\n",
        "    ax2.set_xlabel('Epochs')\n",
        "    ax2.set_ylabel('Loss')\n",
        "    best_loss = np.nanmin(y4)\n",
        "    ax2.axvline(np.nanargmin(y4),\n",
        "                ls='--', label=f'best val loss = {best_loss:.2f}')\n",
        "    ax2.grid(True)\n",
        "    ax2.legend()\n",
        "\n",
        "    fig.suptitle(title, fontsize=12)"
      ]
    },
    {
      "cell_type": "markdown",
      "source": [
        "### Performance metrics"
      ],
      "metadata": {
        "id": "HCIrjzjtxM2I"
      },
      "id": "HCIrjzjtxM2I"
    },
    {
      "cell_type": "markdown",
      "source": [
        "How to set up a confusion matrix from a prefetched TF dataset?"
      ],
      "metadata": {
        "id": "NqbubeekJV0N"
      },
      "id": "NqbubeekJV0N"
    },
    {
      "cell_type": "code",
      "source": [
        "# Predict on the test set\n",
        "pred_alt = base_alt_model.predict(val_alt_ds_batches)\n",
        "pred_alt_flat = list()\n",
        "for i in range(len(pred_alt)):\n",
        "  x = [num for sublist in pred_alt[i] for num in sublist]\n",
        "  pred_alt_flat.append(x)\n",
        "\n",
        "print(pred_alt_flat[0])\n",
        "\n",
        "pred_df_alt = pd.DataFrame(pred_alt_flat).T\n",
        "pred_df_alt.to_csv('/content/drive/My Drive/pred_alt.csv')\n",
        "print(pred_df_alt.head(100))"
      ],
      "metadata": {
        "colab": {
          "base_uri": "https://localhost:8080/"
        },
        "id": "EA-NuMCFz91i",
        "outputId": "328167ad-bf28-463c-ecfa-7f5f3f37c634"
      },
      "id": "EA-NuMCFz91i",
      "execution_count": 101,
      "outputs": [
        {
          "output_type": "stream",
          "name": "stdout",
          "text": [
            "[0.1794232, 0.17958516, 0.17951596, 0.17952952, 0.17943922, 0.1795317, 0.17975439, 0.17958121, 0.17945094, 0.17936449, 0.17916618, 0.17975508, 0.17944434, 0.17934006, 0.17982647, 0.17942837, 0.17986959, 0.1793774, 0.17969742, 0.17943747, 0.17953658, 0.17939524, 0.17944586, 0.17972863, 0.17946644, 0.17937373, 0.17917305, 0.17954633, 0.17963627, 0.17954654, 0.1798709, 0.17940107, 0.17931591, 0.1795245, 0.17906165, 0.17988738, 0.17956138, 0.17947116, 0.17960364, 0.17931122, 0.17988098, 0.17974983, 0.17946145, 0.17947039, 0.17947257, 0.17941712, 0.1798345, 0.17954351, 0.17920409, 0.17956093, 0.17970116, 0.17973208, 0.17950416, 0.17943147, 0.1795452, 0.17940253, 0.17935236, 0.17969121, 0.17979938, 0.17958754, 0.17983536, 0.17985305, 0.179541, 0.1797229, 0.17970067, 0.17973195, 0.1793778, 0.17943478, 0.17987067, 0.17948759, 0.17953801, 0.17957132, 0.17966023, 0.17952012, 0.17929853, 0.17931467, 0.1797087, 0.17912462, 0.17954199, 0.17944223, 0.17976241, 0.17939654, 0.17955254, 0.17955913, 0.1795184, 0.17934553, 0.17951326, 0.17935047, 0.17940116, 0.17925134, 0.17957725, 0.1796189, 0.17933467, 0.1793308, 0.17946795, 0.17934087, 0.17959595, 0.17968695, 0.17967577, 0.17939478, 0.17946821, 0.17942871, 0.17988247, 0.179769, 0.17944357, 0.17953438, 0.17950407, 0.17979808, 0.17962523, 0.17979898, 0.17947069, 0.1792941, 0.17974973, 0.17967595, 0.17956021, 0.17951545, 0.17950097, 0.17985465, 0.17958304, 0.1795669, 0.17971705, 0.17948224, 0.1797574, 0.17953567, 0.17952502, 0.17946133, 0.17944562, 0.1794147, 0.17946534, 0.17983243, 0.1790465, 0.17945015, 0.17962103, 0.1794019, 0.17958659, 0.17949131, 0.17948313, 0.17970262, 0.1793711, 0.17946891, 0.17940615, 0.1792591, 0.17972551, 0.17947304, 0.17958781, 0.17970146, 0.17953046, 0.17986782, 0.17971192, 0.17965353, 0.17936948, 0.17940311, 0.17973588, 0.1794193, 0.17951864, 0.17958653, 0.17972323, 0.17934363, 0.17934993, 0.17975852, 0.17954953, 0.17955375, 0.17954318, 0.17942777, 0.17959717, 0.17949991, 0.17952672, 0.1794845, 0.17948511, 0.17951253, 0.17967477, 0.17947565, 0.17949091, 0.17960623, 0.17955029, 0.17948294, 0.17909719, 0.17951284, 0.17936867, 0.17982692, 0.17965205, 0.17973901, 0.17943126, 0.17969918, 0.17959341, 0.17958331, 0.17968978, 0.1790938, 0.17982928, 0.17921773, 0.17961831, 0.17975113, 0.17956635, 0.17933875, 0.17958425, 0.17971422, 0.17954752, 0.17950936, 0.17947604, 0.17911427, 0.17981194, 0.17981401, 0.17961638, 0.17963508, 0.1794118, 0.1799582, 0.17930633, 0.17949378, 0.1794782, 0.17942034, 0.17950448, 0.17968358, 0.17977181, 0.17947845, 0.17985621, 0.17941286, 0.17932077, 0.17966743, 0.17943801, 0.17944062]\n",
            "           0         1         2         3         4         5         6  \\\n",
            "0   0.179423  0.121742  0.241261  0.208505  0.228754  0.091464  0.206136   \n",
            "1   0.179585  0.121534  0.241315  0.208287  0.228838  0.091664  0.206451   \n",
            "2   0.179516  0.121611  0.241290  0.208256  0.228849  0.091624  0.206365   \n",
            "3   0.179530  0.121557  0.241251  0.208133  0.228862  0.091635  0.206393   \n",
            "4   0.179439  0.121734  0.241274  0.208420  0.228802  0.091500  0.206199   \n",
            "..       ...       ...       ...       ...       ...       ...       ...   \n",
            "95  0.179341  0.121762  0.241204  0.208365  0.228757  0.091467  0.206037   \n",
            "96  0.179596  0.121476  0.241309  0.208109  0.228877  0.091675  0.206520   \n",
            "97  0.179687  0.121392  0.241326  0.208079  0.228899  0.091726  0.206644   \n",
            "98  0.179676  0.121393  0.241384  0.208244  0.228858  0.091716  0.206651   \n",
            "99  0.179395  0.121773  0.241234  0.208433  0.228783  0.091509  0.206124   \n",
            "\n",
            "           7         8  \n",
            "0   0.242067  0.139626  \n",
            "1   0.242415  0.139847  \n",
            "2   0.242250  0.139797  \n",
            "3   0.242305  0.139774  \n",
            "4   0.242072  0.139699  \n",
            "..       ...       ...  \n",
            "95  0.242008  0.139561  \n",
            "96  0.242402  0.139873  \n",
            "97  0.242555  0.139942  \n",
            "98  0.242542  0.139953  \n",
            "99  0.242049  0.139651  \n",
            "\n",
            "[100 rows x 9 columns]\n"
          ]
        }
      ]
    },
    {
      "cell_type": "code",
      "source": [
        "pred_df_alt_array = pred_df_alt.to_numpy()\n",
        "pred_df_alt_array[pred_df_alt_array > 0.5] = 1\n",
        "pred_df_alt_array[pred_df_alt_array <= 0.5] = 0\n",
        "pred_df_alt_array"
      ],
      "metadata": {
        "colab": {
          "base_uri": "https://localhost:8080/"
        },
        "id": "sxxSmPqxndwJ",
        "outputId": "b9260fc1-fb31-4f22-827f-681412ebb11a"
      },
      "id": "sxxSmPqxndwJ",
      "execution_count": 105,
      "outputs": [
        {
          "output_type": "execute_result",
          "data": {
            "text/plain": [
              "array([[0., 0., 0., ..., 0., 0., 0.],\n",
              "       [0., 0., 0., ..., 0., 0., 0.],\n",
              "       [0., 0., 0., ..., 0., 0., 0.],\n",
              "       ...,\n",
              "       [0., 0., 0., ..., 0., 0., 0.],\n",
              "       [0., 0., 0., ..., 0., 0., 0.],\n",
              "       [0., 0., 0., ..., 0., 0., 0.]], dtype=float32)"
            ]
          },
          "metadata": {},
          "execution_count": 105
        }
      ]
    },
    {
      "cell_type": "code",
      "source": [
        "# Get classes from prefetched TF dataset\n",
        "\n",
        "# https://stackoverflow.com/questions/64622210/how-to-extract-classes-from-prefetched-dataset-in-tensorflow-for-confusion-matri\n",
        "\n",
        "y_val_true = []  # store true labels\n",
        "\n",
        "# iterate over the dataset\n",
        "for image_batch, label_batch in val_ds_batches: \n",
        "   # append true labels\n",
        "   y_val_true.append(label_batch)\n",
        "   \n",
        "print(y_val_true)\n",
        "# convert the true and predicted labels into tensors\n",
        "correct_labels = tf.concat([item for item in y_val_true], axis = 0)"
      ],
      "metadata": {
        "id": "tbjm6dAL9vXr",
        "colab": {
          "base_uri": "https://localhost:8080/"
        },
        "outputId": "48c28f0a-58bc-451f-d3a3-896688b966ea"
      },
      "id": "tbjm6dAL9vXr",
      "execution_count": 102,
      "outputs": [
        {
          "output_type": "stream",
          "name": "stdout",
          "text": [
            "[<tf.Tensor: shape=(32, 9), dtype=int64, numpy=\n",
            "array([[0, 0, 1, 0, 0, 0, 0, 1, 0],\n",
            "       [0, 0, 1, 0, 0, 0, 0, 1, 1],\n",
            "       [1, 0, 1, 0, 1, 0, 0, 0, 0],\n",
            "       [0, 0, 0, 0, 0, 0, 0, 1, 1],\n",
            "       [0, 0, 1, 0, 1, 0, 0, 1, 0],\n",
            "       [0, 0, 1, 0, 0, 0, 0, 1, 0],\n",
            "       [0, 0, 0, 0, 1, 0, 0, 0, 1],\n",
            "       [0, 0, 0, 0, 0, 0, 0, 0, 1],\n",
            "       [0, 1, 1, 0, 1, 0, 0, 0, 0],\n",
            "       [0, 0, 1, 0, 0, 0, 0, 0, 0],\n",
            "       [0, 0, 1, 0, 0, 0, 0, 0, 1],\n",
            "       [0, 0, 1, 0, 1, 0, 0, 0, 1],\n",
            "       [0, 1, 0, 0, 1, 1, 0, 0, 0],\n",
            "       [0, 1, 1, 0, 0, 0, 0, 0, 0],\n",
            "       [0, 0, 0, 0, 0, 1, 0, 1, 0],\n",
            "       [0, 1, 1, 0, 0, 0, 0, 0, 0],\n",
            "       [0, 0, 0, 0, 1, 0, 0, 0, 0],\n",
            "       [0, 0, 0, 0, 1, 0, 0, 0, 0],\n",
            "       [1, 1, 0, 0, 1, 0, 0, 1, 0],\n",
            "       [0, 0, 0, 0, 1, 0, 0, 0, 0],\n",
            "       [0, 0, 1, 0, 1, 0, 0, 0, 0],\n",
            "       [0, 0, 1, 0, 0, 0, 0, 0, 1],\n",
            "       [0, 0, 1, 0, 1, 0, 0, 1, 0],\n",
            "       [0, 0, 0, 0, 0, 0, 0, 0, 1],\n",
            "       [1, 0, 1, 0, 0, 0, 0, 0, 0],\n",
            "       [0, 0, 0, 1, 0, 0, 0, 1, 0],\n",
            "       [0, 0, 0, 0, 1, 0, 0, 0, 0],\n",
            "       [0, 1, 0, 0, 0, 0, 0, 0, 1],\n",
            "       [1, 0, 1, 1, 0, 0, 0, 0, 0],\n",
            "       [1, 0, 1, 0, 1, 0, 0, 0, 0],\n",
            "       [1, 0, 0, 0, 1, 0, 0, 0, 0],\n",
            "       [0, 0, 0, 0, 1, 1, 0, 0, 0]])>, <tf.Tensor: shape=(32, 9), dtype=int64, numpy=\n",
            "array([[0, 0, 0, 0, 0, 0, 1, 0, 0],\n",
            "       [0, 0, 0, 0, 0, 0, 1, 0, 0],\n",
            "       [1, 0, 0, 0, 1, 0, 0, 1, 0],\n",
            "       [0, 0, 1, 0, 1, 0, 0, 1, 0],\n",
            "       [0, 0, 0, 0, 0, 0, 1, 0, 0],\n",
            "       [0, 0, 0, 0, 0, 0, 1, 0, 0],\n",
            "       [0, 0, 1, 0, 0, 0, 0, 1, 0],\n",
            "       [1, 1, 0, 0, 0, 0, 0, 0, 0],\n",
            "       [0, 0, 1, 0, 1, 0, 0, 0, 1],\n",
            "       [0, 0, 1, 0, 1, 0, 0, 1, 0],\n",
            "       [0, 0, 0, 0, 0, 0, 1, 0, 0],\n",
            "       [1, 0, 0, 0, 0, 0, 0, 1, 0],\n",
            "       [0, 0, 1, 0, 0, 0, 0, 1, 0],\n",
            "       [0, 0, 0, 0, 0, 0, 0, 0, 1],\n",
            "       [0, 0, 0, 0, 1, 0, 0, 0, 1],\n",
            "       [0, 0, 1, 0, 1, 0, 0, 0, 0],\n",
            "       [0, 0, 0, 0, 0, 0, 1, 0, 0],\n",
            "       [1, 1, 0, 1, 0, 0, 0, 0, 0],\n",
            "       [0, 0, 0, 0, 0, 0, 0, 1, 0],\n",
            "       [0, 0, 0, 1, 0, 0, 0, 0, 0],\n",
            "       [0, 0, 1, 0, 0, 1, 0, 0, 0],\n",
            "       [0, 0, 0, 0, 0, 0, 1, 0, 0],\n",
            "       [0, 0, 0, 1, 0, 0, 0, 0, 0],\n",
            "       [0, 0, 1, 0, 0, 0, 0, 0, 1],\n",
            "       [0, 0, 0, 0, 0, 0, 1, 0, 0],\n",
            "       [0, 0, 0, 0, 1, 1, 0, 0, 0],\n",
            "       [0, 0, 1, 0, 0, 0, 0, 0, 0],\n",
            "       [0, 0, 1, 0, 1, 0, 0, 1, 0],\n",
            "       [0, 0, 1, 0, 1, 0, 0, 1, 0],\n",
            "       [0, 1, 1, 0, 1, 0, 0, 1, 0],\n",
            "       [0, 0, 1, 0, 0, 0, 0, 0, 1],\n",
            "       [0, 0, 0, 1, 1, 0, 0, 0, 0]])>, <tf.Tensor: shape=(32, 9), dtype=int64, numpy=\n",
            "array([[0, 0, 0, 0, 1, 0, 0, 0, 0],\n",
            "       [0, 0, 0, 0, 0, 0, 1, 0, 0],\n",
            "       [0, 0, 1, 0, 1, 0, 0, 0, 1],\n",
            "       [0, 1, 1, 0, 1, 0, 0, 0, 1],\n",
            "       [1, 0, 0, 0, 0, 0, 0, 0, 0],\n",
            "       [1, 0, 0, 0, 0, 0, 0, 0, 0],\n",
            "       [0, 0, 0, 0, 0, 0, 1, 0, 0],\n",
            "       [0, 0, 1, 0, 0, 0, 0, 0, 0],\n",
            "       [0, 0, 0, 0, 0, 0, 0, 0, 1],\n",
            "       [0, 0, 0, 0, 0, 0, 0, 0, 1],\n",
            "       [0, 0, 0, 0, 1, 1, 0, 0, 0],\n",
            "       [0, 0, 0, 1, 0, 0, 0, 0, 0],\n",
            "       [1, 0, 1, 0, 1, 0, 0, 0, 0],\n",
            "       [0, 0, 1, 0, 0, 0, 0, 1, 0],\n",
            "       [0, 0, 0, 0, 1, 0, 0, 0, 0],\n",
            "       [0, 0, 1, 0, 0, 1, 0, 0, 0],\n",
            "       [0, 0, 1, 0, 0, 0, 0, 0, 0],\n",
            "       [0, 1, 1, 1, 0, 0, 0, 0, 0],\n",
            "       [1, 0, 0, 0, 0, 0, 0, 0, 0],\n",
            "       [0, 0, 0, 0, 0, 0, 0, 1, 0],\n",
            "       [0, 1, 1, 0, 0, 0, 0, 1, 0],\n",
            "       [0, 1, 0, 1, 0, 0, 0, 0, 0],\n",
            "       [0, 0, 1, 0, 0, 0, 0, 0, 1],\n",
            "       [1, 0, 1, 0, 0, 0, 0, 1, 0],\n",
            "       [0, 0, 0, 0, 0, 0, 0, 1, 0],\n",
            "       [0, 0, 0, 0, 1, 0, 0, 1, 1],\n",
            "       [0, 0, 1, 0, 1, 0, 0, 1, 0],\n",
            "       [0, 0, 0, 0, 0, 0, 0, 1, 0],\n",
            "       [0, 0, 0, 0, 0, 0, 1, 0, 0],\n",
            "       [0, 0, 0, 1, 1, 0, 0, 1, 0],\n",
            "       [0, 1, 0, 0, 1, 0, 0, 0, 0],\n",
            "       [0, 0, 0, 0, 0, 0, 0, 1, 0]])>, <tf.Tensor: shape=(32, 9), dtype=int64, numpy=\n",
            "array([[0, 0, 0, 0, 0, 0, 1, 0, 0],\n",
            "       [0, 0, 1, 0, 1, 0, 0, 0, 0],\n",
            "       [0, 0, 1, 0, 1, 0, 0, 1, 0],\n",
            "       [0, 0, 0, 0, 0, 0, 0, 0, 1],\n",
            "       [1, 0, 1, 0, 1, 0, 0, 1, 0],\n",
            "       [0, 0, 1, 0, 0, 0, 0, 1, 0],\n",
            "       [0, 0, 0, 0, 0, 0, 0, 1, 0],\n",
            "       [0, 0, 0, 0, 1, 0, 0, 0, 1],\n",
            "       [0, 0, 0, 0, 1, 1, 0, 0, 0],\n",
            "       [0, 0, 0, 0, 0, 0, 0, 1, 1],\n",
            "       [0, 1, 1, 0, 1, 0, 0, 1, 0],\n",
            "       [0, 0, 0, 0, 0, 0, 0, 1, 0],\n",
            "       [0, 1, 1, 0, 1, 0, 0, 0, 0],\n",
            "       [1, 1, 0, 0, 0, 0, 0, 0, 0],\n",
            "       [0, 0, 0, 0, 0, 0, 0, 1, 1],\n",
            "       [0, 0, 0, 0, 0, 0, 1, 0, 0],\n",
            "       [0, 1, 0, 1, 0, 0, 0, 0, 0],\n",
            "       [0, 0, 0, 0, 0, 0, 1, 0, 0],\n",
            "       [0, 0, 0, 0, 0, 0, 1, 0, 0],\n",
            "       [0, 0, 0, 0, 0, 0, 0, 0, 1],\n",
            "       [1, 0, 1, 0, 1, 0, 0, 0, 0],\n",
            "       [0, 0, 1, 0, 0, 0, 0, 1, 0],\n",
            "       [0, 0, 1, 0, 0, 0, 0, 0, 1],\n",
            "       [0, 0, 0, 0, 0, 0, 0, 1, 0],\n",
            "       [0, 0, 0, 0, 1, 0, 0, 0, 1],\n",
            "       [0, 0, 1, 0, 1, 0, 0, 0, 0],\n",
            "       [0, 1, 0, 0, 1, 0, 0, 1, 0],\n",
            "       [0, 0, 0, 0, 0, 0, 1, 0, 0],\n",
            "       [0, 0, 0, 0, 0, 0, 1, 0, 0],\n",
            "       [0, 0, 1, 0, 1, 0, 0, 0, 0],\n",
            "       [0, 0, 1, 0, 1, 0, 0, 0, 0],\n",
            "       [0, 0, 0, 0, 0, 1, 0, 0, 0]])>, <tf.Tensor: shape=(32, 9), dtype=int64, numpy=\n",
            "array([[0, 1, 0, 0, 0, 0, 0, 1, 0],\n",
            "       [0, 0, 0, 0, 0, 0, 0, 1, 1],\n",
            "       [1, 0, 0, 1, 0, 0, 0, 0, 0],\n",
            "       [1, 0, 0, 0, 0, 0, 0, 0, 0],\n",
            "       [0, 0, 0, 0, 0, 0, 1, 0, 0],\n",
            "       [0, 0, 0, 0, 0, 1, 0, 0, 0],\n",
            "       [0, 0, 0, 0, 0, 1, 0, 1, 1],\n",
            "       [0, 0, 1, 1, 1, 0, 0, 1, 0],\n",
            "       [0, 0, 0, 0, 1, 0, 0, 0, 0],\n",
            "       [0, 1, 0, 0, 0, 0, 0, 0, 0],\n",
            "       [0, 0, 0, 0, 0, 0, 1, 0, 0],\n",
            "       [1, 0, 1, 0, 0, 0, 0, 1, 1],\n",
            "       [0, 0, 0, 0, 0, 0, 0, 0, 1],\n",
            "       [0, 1, 1, 0, 0, 0, 0, 0, 0],\n",
            "       [0, 0, 0, 0, 0, 0, 0, 1, 0],\n",
            "       [0, 1, 0, 1, 0, 0, 0, 0, 0],\n",
            "       [0, 0, 1, 0, 1, 1, 0, 1, 0],\n",
            "       [0, 0, 0, 0, 1, 0, 0, 0, 0],\n",
            "       [0, 0, 0, 0, 0, 0, 1, 0, 0],\n",
            "       [0, 0, 0, 1, 0, 0, 0, 0, 0],\n",
            "       [0, 0, 1, 0, 1, 0, 0, 0, 0],\n",
            "       [0, 0, 1, 0, 0, 1, 0, 1, 0],\n",
            "       [0, 0, 0, 0, 0, 0, 1, 0, 0],\n",
            "       [1, 0, 0, 1, 0, 0, 0, 1, 0],\n",
            "       [0, 0, 0, 0, 0, 0, 0, 1, 0],\n",
            "       [0, 0, 0, 0, 1, 0, 0, 0, 1],\n",
            "       [0, 0, 1, 0, 0, 0, 0, 1, 0],\n",
            "       [0, 0, 0, 1, 0, 0, 0, 0, 0],\n",
            "       [0, 0, 0, 0, 0, 0, 1, 0, 0],\n",
            "       [0, 0, 0, 0, 0, 1, 0, 1, 0],\n",
            "       [0, 0, 1, 0, 1, 0, 0, 1, 1],\n",
            "       [0, 0, 0, 0, 0, 0, 1, 0, 0]])>, <tf.Tensor: shape=(32, 9), dtype=int64, numpy=\n",
            "array([[0, 0, 1, 0, 0, 0, 0, 0, 0],\n",
            "       [0, 0, 0, 0, 0, 0, 1, 0, 0],\n",
            "       [0, 0, 0, 0, 1, 1, 0, 0, 0],\n",
            "       [1, 0, 0, 0, 1, 0, 0, 0, 0],\n",
            "       [0, 1, 0, 1, 0, 0, 0, 0, 0],\n",
            "       [0, 0, 0, 0, 0, 0, 0, 1, 0],\n",
            "       [0, 0, 0, 0, 0, 0, 1, 0, 0],\n",
            "       [0, 0, 0, 0, 0, 0, 1, 0, 0],\n",
            "       [0, 0, 0, 0, 0, 1, 0, 1, 0],\n",
            "       [1, 0, 0, 0, 0, 0, 0, 0, 0],\n",
            "       [0, 0, 0, 1, 0, 0, 0, 1, 0],\n",
            "       [1, 0, 0, 0, 0, 1, 0, 0, 0],\n",
            "       [0, 0, 1, 0, 0, 0, 0, 1, 0],\n",
            "       [0, 0, 0, 0, 1, 1, 0, 1, 0],\n",
            "       [0, 0, 1, 0, 0, 0, 0, 0, 0],\n",
            "       [0, 0, 0, 0, 0, 0, 1, 0, 0],\n",
            "       [0, 0, 0, 0, 0, 0, 0, 1, 0],\n",
            "       [0, 0, 0, 0, 1, 0, 0, 0, 0],\n",
            "       [0, 0, 0, 0, 0, 0, 0, 1, 0],\n",
            "       [0, 0, 1, 0, 0, 0, 0, 1, 0],\n",
            "       [0, 0, 0, 0, 0, 0, 1, 0, 0],\n",
            "       [1, 0, 0, 0, 0, 0, 0, 0, 0],\n",
            "       [0, 0, 0, 0, 0, 0, 1, 0, 0],\n",
            "       [0, 0, 1, 0, 0, 0, 0, 0, 0],\n",
            "       [0, 0, 0, 0, 0, 0, 1, 0, 0],\n",
            "       [1, 1, 0, 1, 0, 0, 0, 0, 0],\n",
            "       [0, 0, 1, 0, 0, 1, 0, 0, 0],\n",
            "       [0, 0, 0, 0, 0, 0, 1, 0, 0],\n",
            "       [1, 0, 1, 1, 0, 0, 0, 1, 0],\n",
            "       [0, 0, 0, 0, 0, 1, 0, 0, 0],\n",
            "       [0, 1, 0, 0, 0, 0, 0, 0, 0],\n",
            "       [0, 0, 0, 0, 1, 1, 0, 0, 0]])>, <tf.Tensor: shape=(28, 9), dtype=int64, numpy=\n",
            "array([[0, 0, 0, 0, 0, 0, 0, 1, 0],\n",
            "       [1, 0, 1, 0, 0, 0, 0, 1, 0],\n",
            "       [0, 0, 0, 0, 0, 0, 0, 1, 0],\n",
            "       [0, 0, 1, 0, 1, 0, 0, 1, 0],\n",
            "       [0, 0, 1, 1, 1, 0, 0, 0, 1],\n",
            "       [0, 0, 1, 0, 1, 0, 0, 1, 0],\n",
            "       [0, 1, 0, 1, 1, 0, 0, 1, 0],\n",
            "       [0, 0, 0, 0, 0, 0, 1, 0, 0],\n",
            "       [0, 1, 1, 0, 1, 0, 0, 0, 1],\n",
            "       [0, 0, 1, 0, 1, 0, 0, 0, 0],\n",
            "       [0, 0, 0, 0, 1, 1, 0, 0, 0],\n",
            "       [0, 0, 0, 0, 0, 0, 1, 0, 0],\n",
            "       [0, 0, 0, 0, 0, 0, 1, 0, 0],\n",
            "       [1, 0, 0, 0, 0, 0, 0, 1, 0],\n",
            "       [0, 0, 0, 0, 0, 0, 1, 0, 0],\n",
            "       [0, 0, 0, 0, 0, 0, 1, 0, 0],\n",
            "       [0, 0, 0, 0, 0, 0, 1, 0, 0],\n",
            "       [1, 0, 0, 0, 1, 1, 0, 0, 0],\n",
            "       [0, 0, 1, 0, 1, 0, 0, 1, 0],\n",
            "       [0, 1, 1, 0, 0, 0, 0, 0, 0],\n",
            "       [0, 0, 0, 0, 0, 0, 1, 0, 0],\n",
            "       [0, 0, 0, 0, 0, 0, 1, 0, 0],\n",
            "       [0, 0, 1, 0, 0, 0, 0, 1, 0],\n",
            "       [0, 1, 0, 0, 0, 0, 0, 1, 0],\n",
            "       [1, 0, 0, 0, 0, 0, 0, 0, 0],\n",
            "       [0, 0, 1, 1, 0, 0, 0, 0, 0],\n",
            "       [0, 1, 0, 0, 0, 0, 0, 0, 0],\n",
            "       [0, 0, 0, 0, 0, 0, 1, 0, 0]])>]\n"
          ]
        }
      ]
    },
    {
      "cell_type": "code",
      "source": [
        "correct_labels"
      ],
      "metadata": {
        "colab": {
          "base_uri": "https://localhost:8080/"
        },
        "id": "8LoiyVHhJFa6",
        "outputId": "cf963e0f-6891-4215-d161-b7fa01f3f8e0"
      },
      "id": "8LoiyVHhJFa6",
      "execution_count": 103,
      "outputs": [
        {
          "output_type": "execute_result",
          "data": {
            "text/plain": [
              "<tf.Tensor: shape=(220, 9), dtype=int64, numpy=\n",
              "array([[0, 0, 1, ..., 0, 1, 0],\n",
              "       [0, 0, 1, ..., 0, 1, 1],\n",
              "       [1, 0, 1, ..., 0, 0, 0],\n",
              "       ...,\n",
              "       [0, 0, 1, ..., 0, 0, 0],\n",
              "       [0, 1, 0, ..., 0, 0, 0],\n",
              "       [0, 0, 0, ..., 1, 0, 0]])>"
            ]
          },
          "metadata": {},
          "execution_count": 103
        }
      ]
    },
    {
      "cell_type": "code",
      "source": [
        "# Print the classification report comparing the true labels and the predicted ones\n",
        "print(classification_report(correct_labels, pred_df_alt_array))"
      ],
      "metadata": {
        "colab": {
          "base_uri": "https://localhost:8080/"
        },
        "id": "b4tvY3v2VgaG",
        "outputId": "d511fdb6-0950-4a4b-fb09-3edcb3469047"
      },
      "id": "b4tvY3v2VgaG",
      "execution_count": 106,
      "outputs": [
        {
          "output_type": "stream",
          "name": "stdout",
          "text": [
            "              precision    recall  f1-score   support\n",
            "\n",
            "           0       0.00      0.00      0.00        32\n",
            "           1       0.00      0.00      0.00        31\n",
            "           2       0.00      0.00      0.00        79\n",
            "           3       0.00      0.00      0.00        24\n",
            "           4       0.00      0.00      0.00        71\n",
            "           5       0.00      0.00      0.00        23\n",
            "           6       0.00      0.00      0.00        40\n",
            "           7       0.00      0.00      0.00        72\n",
            "           8       0.00      0.00      0.00        35\n",
            "\n",
            "   micro avg       0.00      0.00      0.00       407\n",
            "   macro avg       0.00      0.00      0.00       407\n",
            "weighted avg       0.00      0.00      0.00       407\n",
            " samples avg       0.00      0.00      0.00       407\n",
            "\n"
          ]
        },
        {
          "output_type": "stream",
          "name": "stderr",
          "text": [
            "/usr/local/lib/python3.7/dist-packages/sklearn/metrics/_classification.py:1318: UndefinedMetricWarning: Precision and F-score are ill-defined and being set to 0.0 in labels with no predicted samples. Use `zero_division` parameter to control this behavior.\n",
            "  _warn_prf(average, modifier, msg_start, len(result))\n",
            "/usr/local/lib/python3.7/dist-packages/sklearn/metrics/_classification.py:1318: UndefinedMetricWarning: Precision and F-score are ill-defined and being set to 0.0 due to no predicted samples. Use `zero_division` parameter to control this behavior.\n",
            "  _warn_prf(average, modifier, msg_start, len(result))\n",
            "/usr/local/lib/python3.7/dist-packages/sklearn/metrics/_classification.py:1318: UndefinedMetricWarning: Precision and F-score are ill-defined and being set to 0.0 in samples with no predicted labels. Use `zero_division` parameter to control this behavior.\n",
            "  _warn_prf(average, modifier, msg_start, len(result))\n"
          ]
        }
      ]
    },
    {
      "cell_type": "code",
      "source": [
        "# Confusion matrix\n",
        "\n",
        "# print('Confusion Matrix')\n",
        "# print(confusion_matrix(correct_labels, predicted_labels))"
      ],
      "metadata": {
        "id": "-nnngWtK_z4W"
      },
      "id": "-nnngWtK_z4W",
      "execution_count": null,
      "outputs": []
    },
    {
      "cell_type": "code",
      "execution_count": null,
      "id": "6c00b938-8669-4fe7-8890-a92e047e19f2",
      "metadata": {
        "id": "6c00b938-8669-4fe7-8890-a92e047e19f2"
      },
      "outputs": [],
      "source": [
        "# Add functions for other performance metrics here\n"
      ]
    },
    {
      "cell_type": "markdown",
      "source": [
        "# Layer Visualizations"
      ],
      "metadata": {
        "id": "jsfFj6wSxSbA"
      },
      "id": "jsfFj6wSxSbA"
    },
    {
      "cell_type": "code",
      "source": [
        "# Add code for layer activation visualizations here\n"
      ],
      "metadata": {
        "id": "fdIhc13qBC11"
      },
      "id": "fdIhc13qBC11",
      "execution_count": null,
      "outputs": []
    }
  ],
  "metadata": {
    "kernelspec": {
      "display_name": "Python 3 (ipykernel)",
      "language": "python",
      "name": "python3"
    },
    "language_info": {
      "codemirror_mode": {
        "name": "ipython",
        "version": 3
      },
      "file_extension": ".py",
      "mimetype": "text/x-python",
      "name": "python",
      "nbconvert_exporter": "python",
      "pygments_lexer": "ipython3",
      "version": "3.8.12"
    },
    "colab": {
      "name": "baseline_model_Jinjie.ipynb",
      "provenance": [],
      "collapsed_sections": [
        "jsfFj6wSxSbA"
      ]
    },
    "accelerator": "GPU"
  },
  "nbformat": 4,
  "nbformat_minor": 5
}