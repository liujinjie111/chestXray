{
 "cells": [
  {
   "cell_type": "code",
   "execution_count": 2,
   "id": "4a6e1afd-9f8b-48b0-8752-9eccb54c1814",
   "metadata": {},
   "outputs": [],
   "source": [
    "# load packages\n",
    "\n",
    "import numpy as np\n",
    "import pandas as pd\n",
    "import matplotlib.pyplot as plt\n",
    "import seaborn as sns\n",
    "%matplotlib inline\n",
    "plt.rcParams[\"figure.figsize\"] = (12,8)"
   ]
  },
  {
   "cell_type": "code",
   "execution_count": 1,
   "id": "4468f879-90d5-4de9-90a2-c4b2ee87b789",
   "metadata": {},
   "outputs": [
    {
     "name": "stdout",
     "output_type": "stream",
     "text": [
      "zsh:1: command not found: nvidia-smi\n"
     ]
    }
   ],
   "source": [
    "# !nvidia-smi"
   ]
  },
  {
   "cell_type": "markdown",
   "id": "edcfa3d2-f996-405e-9dea-76f7176c05f3",
   "metadata": {},
   "source": [
    "## Meta-data"
   ]
  },
  {
   "cell_type": "code",
   "execution_count": 3,
   "id": "345d5157-37b1-4a3d-ab48-ed3276205131",
   "metadata": {},
   "outputs": [
    {
     "name": "stdout",
     "output_type": "stream",
     "text": [
      "Dataset dimensions: (112120, 11) \n",
      "\n"
     ]
    },
    {
     "data": {
      "text/html": [
       "<div>\n",
       "<style scoped>\n",
       "    .dataframe tbody tr th:only-of-type {\n",
       "        vertical-align: middle;\n",
       "    }\n",
       "\n",
       "    .dataframe tbody tr th {\n",
       "        vertical-align: top;\n",
       "    }\n",
       "\n",
       "    .dataframe thead th {\n",
       "        text-align: right;\n",
       "    }\n",
       "</style>\n",
       "<table border=\"1\" class=\"dataframe\">\n",
       "  <thead>\n",
       "    <tr style=\"text-align: right;\">\n",
       "      <th></th>\n",
       "      <th>Image Index</th>\n",
       "      <th>Finding Labels</th>\n",
       "      <th>Follow-up #</th>\n",
       "      <th>Patient ID</th>\n",
       "      <th>Patient Age</th>\n",
       "      <th>Patient Gender</th>\n",
       "      <th>View Position</th>\n",
       "      <th>OriginalImage[Width</th>\n",
       "      <th>Height]</th>\n",
       "      <th>OriginalImagePixelSpacing[x</th>\n",
       "      <th>y]</th>\n",
       "    </tr>\n",
       "  </thead>\n",
       "  <tbody>\n",
       "    <tr>\n",
       "      <th>0</th>\n",
       "      <td>00000001_000.png</td>\n",
       "      <td>Cardiomegaly</td>\n",
       "      <td>0</td>\n",
       "      <td>1</td>\n",
       "      <td>57</td>\n",
       "      <td>M</td>\n",
       "      <td>PA</td>\n",
       "      <td>2682</td>\n",
       "      <td>2749</td>\n",
       "      <td>0.143</td>\n",
       "      <td>0.143</td>\n",
       "    </tr>\n",
       "    <tr>\n",
       "      <th>1</th>\n",
       "      <td>00000001_001.png</td>\n",
       "      <td>Cardiomegaly|Emphysema</td>\n",
       "      <td>1</td>\n",
       "      <td>1</td>\n",
       "      <td>58</td>\n",
       "      <td>M</td>\n",
       "      <td>PA</td>\n",
       "      <td>2894</td>\n",
       "      <td>2729</td>\n",
       "      <td>0.143</td>\n",
       "      <td>0.143</td>\n",
       "    </tr>\n",
       "    <tr>\n",
       "      <th>2</th>\n",
       "      <td>00000001_002.png</td>\n",
       "      <td>Cardiomegaly|Effusion</td>\n",
       "      <td>2</td>\n",
       "      <td>1</td>\n",
       "      <td>58</td>\n",
       "      <td>M</td>\n",
       "      <td>PA</td>\n",
       "      <td>2500</td>\n",
       "      <td>2048</td>\n",
       "      <td>0.168</td>\n",
       "      <td>0.168</td>\n",
       "    </tr>\n",
       "  </tbody>\n",
       "</table>\n",
       "</div>"
      ],
      "text/plain": [
       "        Image Index          Finding Labels  Follow-up #  Patient ID  \\\n",
       "0  00000001_000.png            Cardiomegaly            0           1   \n",
       "1  00000001_001.png  Cardiomegaly|Emphysema            1           1   \n",
       "2  00000001_002.png   Cardiomegaly|Effusion            2           1   \n",
       "\n",
       "   Patient Age Patient Gender View Position  OriginalImage[Width  Height]  \\\n",
       "0           57              M            PA                 2682     2749   \n",
       "1           58              M            PA                 2894     2729   \n",
       "2           58              M            PA                 2500     2048   \n",
       "\n",
       "   OriginalImagePixelSpacing[x     y]  \n",
       "0                        0.143  0.143  \n",
       "1                        0.143  0.143  \n",
       "2                        0.168  0.168  "
      ]
     },
     "execution_count": 3,
     "metadata": {},
     "output_type": "execute_result"
    }
   ],
   "source": [
    "# read in data\n",
    "\n",
    "base_path = '~/Dropbox/Courses/CSCI_109B/final_project/'\n",
    "df_meta = pd.read_csv(base_path + 'meta_data/Data_Entry_2017_v2020.csv')\n",
    "print(\"Dataset dimensions:\", df_meta.shape, \"\\n\")\n",
    "df_meta.head(3)"
   ]
  },
  {
   "cell_type": "code",
   "execution_count": 4,
   "id": "64578677-ad1e-4083-9681-1f9b74e3fdca",
   "metadata": {},
   "outputs": [
    {
     "data": {
      "text/plain": [
       "Image Index                     object\n",
       "Finding Labels                  object\n",
       "Follow-up #                      int64\n",
       "Patient ID                       int64\n",
       "Patient Age                      int64\n",
       "Patient Gender                  object\n",
       "View Position                   object\n",
       "OriginalImage[Width              int64\n",
       "Height]                          int64\n",
       "OriginalImagePixelSpacing[x    float64\n",
       "y]                             float64\n",
       "dtype: object"
      ]
     },
     "execution_count": 4,
     "metadata": {},
     "output_type": "execute_result"
    }
   ],
   "source": [
    "df_meta.dtypes"
   ]
  },
  {
   "cell_type": "code",
   "execution_count": 6,
   "id": "bc711dcc-a371-4711-8b90-9a3085fffbd7",
   "metadata": {},
   "outputs": [
    {
     "data": {
      "text/plain": [
       "Image Index                    112120\n",
       "Finding Labels                    836\n",
       "Follow-up #                       184\n",
       "Patient ID                      30805\n",
       "Patient Age                        96\n",
       "Patient Gender                      2\n",
       "View Position                       2\n",
       "OriginalImage[Width               904\n",
       "Height]                          1137\n",
       "OriginalImagePixelSpacing[x        23\n",
       "y]                                 23\n",
       "dtype: int64"
      ]
     },
     "execution_count": 6,
     "metadata": {},
     "output_type": "execute_result"
    }
   ],
   "source": [
    "df_meta.nunique()"
   ]
  },
  {
   "cell_type": "code",
   "execution_count": 7,
   "id": "ff76f0bb-72b0-42a1-a101-779da269bafe",
   "metadata": {},
   "outputs": [
    {
     "data": {
      "image/png": "[encoded data removed]",
      "text/plain": [
       "<Figure size 288x288 with 1 Axes>"
      ]
     },
     "metadata": {
      "needs_background": "light"
     },
     "output_type": "display_data"
    }
   ],
   "source": [
    "# patient age and gender\n",
    "\n",
    "plt.figure(figsize=(4,4))\n",
    "sns.boxplot(x=\"Patient Gender\", y=\"Patient Age\", data=df_meta);"
   ]
  },
  {
   "cell_type": "code",
   "execution_count": 8,
   "id": "e7860f0d-bce5-40df-ae72-0803b0e972fd",
   "metadata": {},
   "outputs": [
    {
     "data": {
      "image/png": "[encoded data removed]",
      "text/plain": [
       "<Figure size 576x144 with 1 Axes>"
      ]
     },
     "metadata": {
      "needs_background": "light"
     },
     "output_type": "display_data"
    }
   ],
   "source": [
    "# barplot of view position\n",
    "\n",
    "plt.figure(figsize=(8,2))\n",
    "df_meta['View Position'].value_counts().plot(kind=\"barh\", legend=False)\n",
    "plt.title(\"Chest X-ray View Position\")\n",
    "plt.ylabel(\"View Position\")\n",
    "plt.xlabel(\"Count\");"
   ]
  },
  {
   "cell_type": "code",
   "execution_count": 9,
   "id": "7fc57c59-2157-438f-9169-bc114438b600",
   "metadata": {},
   "outputs": [
    {
     "name": "stdout",
     "output_type": "stream",
     "text": [
      "(836, 2)\n"
     ]
    },
    {
     "data": {
      "text/html": [
       "<div>\n",
       "<style scoped>\n",
       "    .dataframe tbody tr th:only-of-type {\n",
       "        vertical-align: middle;\n",
       "    }\n",
       "\n",
       "    .dataframe tbody tr th {\n",
       "        vertical-align: top;\n",
       "    }\n",
       "\n",
       "    .dataframe thead th {\n",
       "        text-align: right;\n",
       "    }\n",
       "</style>\n",
       "<table border=\"1\" class=\"dataframe\">\n",
       "  <thead>\n",
       "    <tr style=\"text-align: right;\">\n",
       "      <th></th>\n",
       "      <th>Finding Labels</th>\n",
       "      <th>Counts</th>\n",
       "    </tr>\n",
       "  </thead>\n",
       "  <tbody>\n",
       "    <tr>\n",
       "      <th>0</th>\n",
       "      <td>No Finding</td>\n",
       "      <td>60361</td>\n",
       "    </tr>\n",
       "    <tr>\n",
       "      <th>1</th>\n",
       "      <td>Infiltration</td>\n",
       "      <td>9547</td>\n",
       "    </tr>\n",
       "    <tr>\n",
       "      <th>2</th>\n",
       "      <td>Atelectasis</td>\n",
       "      <td>4215</td>\n",
       "    </tr>\n",
       "    <tr>\n",
       "      <th>3</th>\n",
       "      <td>Effusion</td>\n",
       "      <td>3955</td>\n",
       "    </tr>\n",
       "    <tr>\n",
       "      <th>4</th>\n",
       "      <td>Nodule</td>\n",
       "      <td>2705</td>\n",
       "    </tr>\n",
       "  </tbody>\n",
       "</table>\n",
       "</div>"
      ],
      "text/plain": [
       "  Finding Labels  Counts\n",
       "0     No Finding   60361\n",
       "1   Infiltration    9547\n",
       "2    Atelectasis    4215\n",
       "3       Effusion    3955\n",
       "4         Nodule    2705"
      ]
     },
     "execution_count": 9,
     "metadata": {},
     "output_type": "execute_result"
    }
   ],
   "source": [
    "# counts of Finding Labels\n",
    "\n",
    "df_meta_labels = df_meta['Finding Labels'].value_counts().rename_axis('Finding Labels').reset_index(name='Counts')\n",
    "print(df_meta_labels.shape)\n",
    "df_meta_labels.head()"
   ]
  },
  {
   "cell_type": "code",
   "execution_count": 11,
   "id": "1cf8154c-b122-46e5-8a0d-e5187cb4b5d1",
   "metadata": {},
   "outputs": [
    {
     "name": "stdout",
     "output_type": "stream",
     "text": [
      "(18, 2)\n"
     ]
    },
    {
     "data": {
      "text/html": [
       "<div>\n",
       "<style scoped>\n",
       "    .dataframe tbody tr th:only-of-type {\n",
       "        vertical-align: middle;\n",
       "    }\n",
       "\n",
       "    .dataframe tbody tr th {\n",
       "        vertical-align: top;\n",
       "    }\n",
       "\n",
       "    .dataframe thead th {\n",
       "        text-align: right;\n",
       "    }\n",
       "</style>\n",
       "<table border=\"1\" class=\"dataframe\">\n",
       "  <thead>\n",
       "    <tr style=\"text-align: right;\">\n",
       "      <th></th>\n",
       "      <th>Finding Labels</th>\n",
       "      <th>Counts</th>\n",
       "    </tr>\n",
       "  </thead>\n",
       "  <tbody>\n",
       "    <tr>\n",
       "      <th>0</th>\n",
       "      <td>No Finding</td>\n",
       "      <td>60361</td>\n",
       "    </tr>\n",
       "    <tr>\n",
       "      <th>1</th>\n",
       "      <td>Infiltration</td>\n",
       "      <td>9547</td>\n",
       "    </tr>\n",
       "    <tr>\n",
       "      <th>2</th>\n",
       "      <td>Atelectasis</td>\n",
       "      <td>4215</td>\n",
       "    </tr>\n",
       "    <tr>\n",
       "      <th>3</th>\n",
       "      <td>Effusion</td>\n",
       "      <td>3955</td>\n",
       "    </tr>\n",
       "    <tr>\n",
       "      <th>4</th>\n",
       "      <td>Nodule</td>\n",
       "      <td>2705</td>\n",
       "    </tr>\n",
       "    <tr>\n",
       "      <th>5</th>\n",
       "      <td>Pneumothorax</td>\n",
       "      <td>2194</td>\n",
       "    </tr>\n",
       "    <tr>\n",
       "      <th>6</th>\n",
       "      <td>Mass</td>\n",
       "      <td>2139</td>\n",
       "    </tr>\n",
       "    <tr>\n",
       "      <th>7</th>\n",
       "      <td>Effusion|Infiltration</td>\n",
       "      <td>1603</td>\n",
       "    </tr>\n",
       "    <tr>\n",
       "      <th>8</th>\n",
       "      <td>Atelectasis|Infiltration</td>\n",
       "      <td>1350</td>\n",
       "    </tr>\n",
       "    <tr>\n",
       "      <th>9</th>\n",
       "      <td>Consolidation</td>\n",
       "      <td>1310</td>\n",
       "    </tr>\n",
       "    <tr>\n",
       "      <th>10</th>\n",
       "      <td>Atelectasis|Effusion</td>\n",
       "      <td>1165</td>\n",
       "    </tr>\n",
       "    <tr>\n",
       "      <th>11</th>\n",
       "      <td>Pleural_Thickening</td>\n",
       "      <td>1126</td>\n",
       "    </tr>\n",
       "    <tr>\n",
       "      <th>12</th>\n",
       "      <td>Cardiomegaly</td>\n",
       "      <td>1093</td>\n",
       "    </tr>\n",
       "    <tr>\n",
       "      <th>13</th>\n",
       "      <td>Emphysema</td>\n",
       "      <td>892</td>\n",
       "    </tr>\n",
       "    <tr>\n",
       "      <th>14</th>\n",
       "      <td>Infiltration|Nodule</td>\n",
       "      <td>829</td>\n",
       "    </tr>\n",
       "    <tr>\n",
       "      <th>15</th>\n",
       "      <td>Atelectasis|Effusion|Infiltration</td>\n",
       "      <td>737</td>\n",
       "    </tr>\n",
       "    <tr>\n",
       "      <th>16</th>\n",
       "      <td>Fibrosis</td>\n",
       "      <td>727</td>\n",
       "    </tr>\n",
       "    <tr>\n",
       "      <th>17</th>\n",
       "      <td>Edema</td>\n",
       "      <td>628</td>\n",
       "    </tr>\n",
       "  </tbody>\n",
       "</table>\n",
       "</div>"
      ],
      "text/plain": [
       "                       Finding Labels  Counts\n",
       "0                          No Finding   60361\n",
       "1                        Infiltration    9547\n",
       "2                         Atelectasis    4215\n",
       "3                            Effusion    3955\n",
       "4                              Nodule    2705\n",
       "5                        Pneumothorax    2194\n",
       "6                                Mass    2139\n",
       "7               Effusion|Infiltration    1603\n",
       "8            Atelectasis|Infiltration    1350\n",
       "9                       Consolidation    1310\n",
       "10               Atelectasis|Effusion    1165\n",
       "11                 Pleural_Thickening    1126\n",
       "12                       Cardiomegaly    1093\n",
       "13                          Emphysema     892\n",
       "14                Infiltration|Nodule     829\n",
       "15  Atelectasis|Effusion|Infiltration     737\n",
       "16                           Fibrosis     727\n",
       "17                              Edema     628"
      ]
     },
     "execution_count": 11,
     "metadata": {},
     "output_type": "execute_result"
    }
   ],
   "source": [
    "# limit counts to >500\n",
    "\n",
    "df_meta_labels_large = df_meta_labels[df_meta_labels['Counts'] > 500]\n",
    "print(df_meta_labels_large.shape)\n",
    "df_meta_labels_large"
   ]
  },
  {
   "cell_type": "code",
   "execution_count": 12,
   "id": "ba1cafdd-8cdb-433b-a5da-4a717bf53ad7",
   "metadata": {},
   "outputs": [
    {
     "data": {
      "image/png": "[encoded data removed]",
      "text/plain": [
       "<Figure size 864x576 with 1 Axes>"
      ]
     },
     "metadata": {
      "needs_background": "light"
     },
     "output_type": "display_data"
    }
   ],
   "source": [
    "# bar plot\n",
    "\n",
    "df_meta_labels_large.set_index('Finding Labels').plot(kind=\"barh\", legend=False)\n",
    "plt.title(\"Chest X-ray Finding Labels (>500 Count)\")\n",
    "plt.ylabel(\"Finding Labels\")\n",
    "plt.xlabel(\"Count\");"
   ]
  },
  {
   "cell_type": "markdown",
   "id": "c3cba60a-a115-48e7-b0f8-20018891509e",
   "metadata": {},
   "source": [
    "## One-Hot Encoded Label Data"
   ]
  },
  {
   "cell_type": "code",
   "execution_count": 13,
   "id": "f6a2b5ac-0ef9-4369-bd60-4c6288543f43",
   "metadata": {},
   "outputs": [
    {
     "name": "stdout",
     "output_type": "stream",
     "text": [
      "Dataset dimensions: (98637, 15) \n",
      "\n"
     ]
    },
    {
     "data": {
      "text/html": [
       "<div>\n",
       "<style scoped>\n",
       "    .dataframe tbody tr th:only-of-type {\n",
       "        vertical-align: middle;\n",
       "    }\n",
       "\n",
       "    .dataframe tbody tr th {\n",
       "        vertical-align: top;\n",
       "    }\n",
       "\n",
       "    .dataframe thead th {\n",
       "        text-align: right;\n",
       "    }\n",
       "</style>\n",
       "<table border=\"1\" class=\"dataframe\">\n",
       "  <thead>\n",
       "    <tr style=\"text-align: right;\">\n",
       "      <th></th>\n",
       "      <th>Path</th>\n",
       "      <th>Cardiomegaly</th>\n",
       "      <th>Emphysema</th>\n",
       "      <th>Effusion</th>\n",
       "      <th>Hernia</th>\n",
       "      <th>Infiltration</th>\n",
       "      <th>Mass</th>\n",
       "      <th>Nodule</th>\n",
       "      <th>Atelectasis</th>\n",
       "      <th>Pneumothorax</th>\n",
       "      <th>Pleural-Thickening</th>\n",
       "      <th>Pneumonia</th>\n",
       "      <th>Fibrosis</th>\n",
       "      <th>Edema</th>\n",
       "      <th>Consolidation</th>\n",
       "    </tr>\n",
       "  </thead>\n",
       "  <tbody>\n",
       "    <tr>\n",
       "      <th>0</th>\n",
       "      <td>images/00000001_000.png</td>\n",
       "      <td>1</td>\n",
       "      <td>0</td>\n",
       "      <td>0</td>\n",
       "      <td>1</td>\n",
       "      <td>0</td>\n",
       "      <td>0</td>\n",
       "      <td>0</td>\n",
       "      <td>0</td>\n",
       "      <td>0</td>\n",
       "      <td>0</td>\n",
       "      <td>0</td>\n",
       "      <td>0</td>\n",
       "      <td>0</td>\n",
       "      <td>0</td>\n",
       "    </tr>\n",
       "    <tr>\n",
       "      <th>1</th>\n",
       "      <td>images/00000001_001.png</td>\n",
       "      <td>1</td>\n",
       "      <td>1</td>\n",
       "      <td>0</td>\n",
       "      <td>1</td>\n",
       "      <td>0</td>\n",
       "      <td>0</td>\n",
       "      <td>0</td>\n",
       "      <td>0</td>\n",
       "      <td>0</td>\n",
       "      <td>0</td>\n",
       "      <td>0</td>\n",
       "      <td>0</td>\n",
       "      <td>0</td>\n",
       "      <td>0</td>\n",
       "    </tr>\n",
       "    <tr>\n",
       "      <th>2</th>\n",
       "      <td>images/00000001_002.png</td>\n",
       "      <td>1</td>\n",
       "      <td>0</td>\n",
       "      <td>1</td>\n",
       "      <td>1</td>\n",
       "      <td>0</td>\n",
       "      <td>0</td>\n",
       "      <td>0</td>\n",
       "      <td>0</td>\n",
       "      <td>0</td>\n",
       "      <td>0</td>\n",
       "      <td>0</td>\n",
       "      <td>1</td>\n",
       "      <td>0</td>\n",
       "      <td>0</td>\n",
       "    </tr>\n",
       "  </tbody>\n",
       "</table>\n",
       "</div>"
      ],
      "text/plain": [
       "                      Path  Cardiomegaly  Emphysema  Effusion  Hernia  \\\n",
       "0  images/00000001_000.png             1          0         0       1   \n",
       "1  images/00000001_001.png             1          1         0       1   \n",
       "2  images/00000001_002.png             1          0         1       1   \n",
       "\n",
       "   Infiltration  Mass  Nodule  Atelectasis  Pneumothorax  Pleural-Thickening  \\\n",
       "0             0     0       0            0             0                   0   \n",
       "1             0     0       0            0             0                   0   \n",
       "2             0     0       0            0             0                   0   \n",
       "\n",
       "   Pneumonia  Fibrosis  Edema  Consolidation  \n",
       "0          0         0      0              0  \n",
       "1          0         0      0              0  \n",
       "2          0         1      0              0  "
      ]
     },
     "execution_count": 13,
     "metadata": {},
     "output_type": "execute_result"
    }
   ],
   "source": [
    "df_y_onehot = pd.read_csv(base_path + 'label_data/train_relabeled.csv')\n",
    "print(\"Dataset dimensions:\", df_y_onehot.shape, \"\\n\")\n",
    "df_y_onehot.head(3)"
   ]
  },
  {
   "cell_type": "code",
   "execution_count": 14,
   "id": "80b59e01-f8da-4b7c-87fc-6afb942fc999",
   "metadata": {},
   "outputs": [],
   "source": [
    "diseases = ['Atelectasis', 'Cardiomegaly', 'Effusion', 'Infiltration',  'Mass', 'Nodule', 'Pneumonia', 'Pneumothorax']"
   ]
  },
  {
   "cell_type": "code",
   "execution_count": 16,
   "id": "a205926a-4c7f-45f6-ae9c-3006443c8421",
   "metadata": {},
   "outputs": [
    {
     "data": {
      "text/html": [
       "<div>\n",
       "<style scoped>\n",
       "    .dataframe tbody tr th:only-of-type {\n",
       "        vertical-align: middle;\n",
       "    }\n",
       "\n",
       "    .dataframe tbody tr th {\n",
       "        vertical-align: top;\n",
       "    }\n",
       "\n",
       "    .dataframe thead th {\n",
       "        text-align: right;\n",
       "    }\n",
       "</style>\n",
       "<table border=\"1\" class=\"dataframe\">\n",
       "  <thead>\n",
       "    <tr style=\"text-align: right;\">\n",
       "      <th></th>\n",
       "      <th>Atelectasis</th>\n",
       "      <th>Cardiomegaly</th>\n",
       "      <th>Effusion</th>\n",
       "      <th>Infiltration</th>\n",
       "      <th>Mass</th>\n",
       "      <th>Nodule</th>\n",
       "      <th>Pneumonia</th>\n",
       "      <th>Pneumothorax</th>\n",
       "    </tr>\n",
       "  </thead>\n",
       "  <tbody>\n",
       "    <tr>\n",
       "      <th>0</th>\n",
       "      <td>0</td>\n",
       "      <td>1</td>\n",
       "      <td>0</td>\n",
       "      <td>0</td>\n",
       "      <td>0</td>\n",
       "      <td>0</td>\n",
       "      <td>0</td>\n",
       "      <td>0</td>\n",
       "    </tr>\n",
       "    <tr>\n",
       "      <th>1</th>\n",
       "      <td>0</td>\n",
       "      <td>1</td>\n",
       "      <td>0</td>\n",
       "      <td>0</td>\n",
       "      <td>0</td>\n",
       "      <td>0</td>\n",
       "      <td>0</td>\n",
       "      <td>0</td>\n",
       "    </tr>\n",
       "    <tr>\n",
       "      <th>2</th>\n",
       "      <td>0</td>\n",
       "      <td>1</td>\n",
       "      <td>1</td>\n",
       "      <td>0</td>\n",
       "      <td>0</td>\n",
       "      <td>0</td>\n",
       "      <td>0</td>\n",
       "      <td>0</td>\n",
       "    </tr>\n",
       "    <tr>\n",
       "      <th>3</th>\n",
       "      <td>0</td>\n",
       "      <td>0</td>\n",
       "      <td>0</td>\n",
       "      <td>0</td>\n",
       "      <td>0</td>\n",
       "      <td>1</td>\n",
       "      <td>0</td>\n",
       "      <td>0</td>\n",
       "    </tr>\n",
       "    <tr>\n",
       "      <th>4</th>\n",
       "      <td>0</td>\n",
       "      <td>0</td>\n",
       "      <td>0</td>\n",
       "      <td>0</td>\n",
       "      <td>1</td>\n",
       "      <td>1</td>\n",
       "      <td>0</td>\n",
       "      <td>0</td>\n",
       "    </tr>\n",
       "  </tbody>\n",
       "</table>\n",
       "</div>"
      ],
      "text/plain": [
       "   Atelectasis  Cardiomegaly  Effusion  Infiltration  Mass  Nodule  Pneumonia  \\\n",
       "0            0             1         0             0     0       0          0   \n",
       "1            0             1         0             0     0       0          0   \n",
       "2            0             1         1             0     0       0          0   \n",
       "3            0             0         0             0     0       1          0   \n",
       "4            0             0         0             0     1       1          0   \n",
       "\n",
       "   Pneumothorax  \n",
       "0             0  \n",
       "1             0  \n",
       "2             0  \n",
       "3             0  \n",
       "4             0  "
      ]
     },
     "execution_count": 16,
     "metadata": {},
     "output_type": "execute_result"
    }
   ],
   "source": [
    "diseases_onehot = df_y_onehot[diseases]\n",
    "diseases_onehot.head()"
   ]
  },
  {
   "cell_type": "markdown",
   "id": "e642875c-fe54-4781-b6d9-ea5709ac6e85",
   "metadata": {},
   "source": [
    "## Disease Correlations"
   ]
  },
  {
   "cell_type": "code",
   "execution_count": 21,
   "id": "eeaad53b-b2d3-4522-8308-acba3ff71c6f",
   "metadata": {},
   "outputs": [
    {
     "data": {
      "text/html": [
       "<div>\n",
       "<style scoped>\n",
       "    .dataframe tbody tr th:only-of-type {\n",
       "        vertical-align: middle;\n",
       "    }\n",
       "\n",
       "    .dataframe tbody tr th {\n",
       "        vertical-align: top;\n",
       "    }\n",
       "\n",
       "    .dataframe thead th {\n",
       "        text-align: right;\n",
       "    }\n",
       "</style>\n",
       "<table border=\"1\" class=\"dataframe\">\n",
       "  <thead>\n",
       "    <tr style=\"text-align: right;\">\n",
       "      <th></th>\n",
       "      <th>Atelectasis</th>\n",
       "      <th>Cardiomegaly</th>\n",
       "      <th>Effusion</th>\n",
       "      <th>Infiltration</th>\n",
       "      <th>Mass</th>\n",
       "      <th>Nodule</th>\n",
       "      <th>Pneumonia</th>\n",
       "      <th>Pneumothorax</th>\n",
       "    </tr>\n",
       "  </thead>\n",
       "  <tbody>\n",
       "    <tr>\n",
       "      <th>Atelectasis</th>\n",
       "      <td>1.000000</td>\n",
       "      <td>0.007130</td>\n",
       "      <td>0.298670</td>\n",
       "      <td>0.088704</td>\n",
       "      <td>0.007815</td>\n",
       "      <td>-0.070741</td>\n",
       "      <td>0.036840</td>\n",
       "      <td>0.061257</td>\n",
       "    </tr>\n",
       "    <tr>\n",
       "      <th>Cardiomegaly</th>\n",
       "      <td>0.007130</td>\n",
       "      <td>1.000000</td>\n",
       "      <td>0.092315</td>\n",
       "      <td>0.053113</td>\n",
       "      <td>-0.064970</td>\n",
       "      <td>-0.058080</td>\n",
       "      <td>0.064118</td>\n",
       "      <td>-0.083210</td>\n",
       "    </tr>\n",
       "    <tr>\n",
       "      <th>Effusion</th>\n",
       "      <td>0.298670</td>\n",
       "      <td>0.092315</td>\n",
       "      <td>1.000000</td>\n",
       "      <td>0.191233</td>\n",
       "      <td>0.144478</td>\n",
       "      <td>0.002318</td>\n",
       "      <td>0.134799</td>\n",
       "      <td>0.090660</td>\n",
       "    </tr>\n",
       "    <tr>\n",
       "      <th>Infiltration</th>\n",
       "      <td>0.088704</td>\n",
       "      <td>0.053113</td>\n",
       "      <td>0.191233</td>\n",
       "      <td>1.000000</td>\n",
       "      <td>0.016162</td>\n",
       "      <td>0.069063</td>\n",
       "      <td>0.524039</td>\n",
       "      <td>-0.019243</td>\n",
       "    </tr>\n",
       "    <tr>\n",
       "      <th>Mass</th>\n",
       "      <td>0.007815</td>\n",
       "      <td>-0.064970</td>\n",
       "      <td>0.144478</td>\n",
       "      <td>0.016162</td>\n",
       "      <td>1.000000</td>\n",
       "      <td>0.357218</td>\n",
       "      <td>0.007126</td>\n",
       "      <td>0.063410</td>\n",
       "    </tr>\n",
       "    <tr>\n",
       "      <th>Nodule</th>\n",
       "      <td>-0.070741</td>\n",
       "      <td>-0.058080</td>\n",
       "      <td>0.002318</td>\n",
       "      <td>0.069063</td>\n",
       "      <td>0.357218</td>\n",
       "      <td>1.000000</td>\n",
       "      <td>0.102962</td>\n",
       "      <td>-0.006028</td>\n",
       "    </tr>\n",
       "    <tr>\n",
       "      <th>Pneumonia</th>\n",
       "      <td>0.036840</td>\n",
       "      <td>0.064118</td>\n",
       "      <td>0.134799</td>\n",
       "      <td>0.524039</td>\n",
       "      <td>0.007126</td>\n",
       "      <td>0.102962</td>\n",
       "      <td>1.000000</td>\n",
       "      <td>-0.071113</td>\n",
       "    </tr>\n",
       "    <tr>\n",
       "      <th>Pneumothorax</th>\n",
       "      <td>0.061257</td>\n",
       "      <td>-0.083210</td>\n",
       "      <td>0.090660</td>\n",
       "      <td>-0.019243</td>\n",
       "      <td>0.063410</td>\n",
       "      <td>-0.006028</td>\n",
       "      <td>-0.071113</td>\n",
       "      <td>1.000000</td>\n",
       "    </tr>\n",
       "  </tbody>\n",
       "</table>\n",
       "</div>"
      ],
      "text/plain": [
       "              Atelectasis  Cardiomegaly  Effusion  Infiltration      Mass  \\\n",
       "Atelectasis      1.000000      0.007130  0.298670      0.088704  0.007815   \n",
       "Cardiomegaly     0.007130      1.000000  0.092315      0.053113 -0.064970   \n",
       "Effusion         0.298670      0.092315  1.000000      0.191233  0.144478   \n",
       "Infiltration     0.088704      0.053113  0.191233      1.000000  0.016162   \n",
       "Mass             0.007815     -0.064970  0.144478      0.016162  1.000000   \n",
       "Nodule          -0.070741     -0.058080  0.002318      0.069063  0.357218   \n",
       "Pneumonia        0.036840      0.064118  0.134799      0.524039  0.007126   \n",
       "Pneumothorax     0.061257     -0.083210  0.090660     -0.019243  0.063410   \n",
       "\n",
       "                Nodule  Pneumonia  Pneumothorax  \n",
       "Atelectasis  -0.070741   0.036840      0.061257  \n",
       "Cardiomegaly -0.058080   0.064118     -0.083210  \n",
       "Effusion      0.002318   0.134799      0.090660  \n",
       "Infiltration  0.069063   0.524039     -0.019243  \n",
       "Mass          0.357218   0.007126      0.063410  \n",
       "Nodule        1.000000   0.102962     -0.006028  \n",
       "Pneumonia     0.102962   1.000000     -0.071113  \n",
       "Pneumothorax -0.006028  -0.071113      1.000000  "
      ]
     },
     "execution_count": 21,
     "metadata": {},
     "output_type": "execute_result"
    }
   ],
   "source": [
    "from sklearn.metrics import matthews_corrcoef\n",
    "\n",
    "diseases_corr = diseases_onehot.corr(method=matthews_corrcoef)\n",
    "diseases_corr"
   ]
  },
  {
   "cell_type": "code",
   "execution_count": 25,
   "id": "0ea4ec28-9e9e-4353-bdd8-41d90d417920",
   "metadata": {},
   "outputs": [
    {
     "data": {
      "image/png": "[encoded data removed]",
      "text/plain": [
       "<Figure size 864x576 with 2 Axes>"
      ]
     },
     "metadata": {
      "needs_background": "light"
     },
     "output_type": "display_data"
    }
   ],
   "source": [
    "# heatmap\n",
    "sns.heatmap(diseases_corr, cmap=\"Reds\", annot=True);"
   ]
  },
  {
   "cell_type": "code",
   "execution_count": null,
   "id": "5da1ff19-2dc1-40f7-93a8-85f2136f93f8",
   "metadata": {},
   "outputs": [],
   "source": []
  }
 ],
 "metadata": {
  "kernelspec": {
   "display_name": "Python 3 (ipykernel)",
   "language": "python",
   "name": "python3"
  },
  "language_info": {
   "codemirror_mode": {
    "name": "ipython",
    "version": 3
   },
   "file_extension": ".py",
   "mimetype": "text/x-python",
   "name": "python",
   "nbconvert_exporter": "python",
   "pygments_lexer": "ipython3",
   "version": "3.8.12"
  }
 },
 "nbformat": 4,
 "nbformat_minor": 5
}
